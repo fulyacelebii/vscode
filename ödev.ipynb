{
 "cells": [
  {
   "cell_type": "code",
   "execution_count": 21,
   "metadata": {},
   "outputs": [
    {
     "name": "stdout",
     "output_type": "stream",
     "text": [
      "11 asaldır\n"
     ]
    }
   ],
   "source": [
    "sayılar = int(input(\"sayı girin\"))\n",
    "\n",
    "sayılar2 = range(2, sayılar)\n",
    "\n",
    "if sayılar > 1:\n",
    "\n",
    "    for i in sayılar2:\n",
    "        if sayılar % i == 0:\n",
    "            print(f\"{sayılar} asal değildir\")\n",
    "            break\n",
    "    else:\n",
    "        print(f\"{sayılar} asaldır\")\n",
    "\n",
    "else:\n",
    "    print(f\"{sayılar} Asal değildir\")       \n",
    "        "
   ]
  },
  {
   "cell_type": "code",
   "execution_count": null,
   "metadata": {},
   "outputs": [],
   "source": []
  },
  {
   "cell_type": "code",
   "execution_count": 1,
   "metadata": {},
   "outputs": [],
   "source": [
    "def asal_sayı_aracı(x):\n",
    "\n",
    "    \"\"\"Bu fonksiyon sayıların asal sayı olup olmadığını gösterir\"\"\"\n",
    "\n",
    "    if x > 1:\n",
    "\n",
    "        for i in range(2, x):\n",
    "            if x % i == 0:\n",
    "                print(f\"{x} asal değildir\")\n",
    "                break\n",
    "        else:\n",
    "            return(f\"{x} asaldır\")\n",
    "\n",
    "    else:\n",
    "        return(f\"{x} Asal değildir\")       \n",
    "        \n"
   ]
  },
  {
   "cell_type": "code",
   "execution_count": 2,
   "metadata": {},
   "outputs": [
    {
     "name": "stdout",
     "output_type": "stream",
     "text": [
      "15 asal değildir\n"
     ]
    }
   ],
   "source": [
    "asal_sayı_aracı(15)"
   ]
  },
  {
   "cell_type": "code",
   "execution_count": 13,
   "metadata": {},
   "outputs": [],
   "source": [
    "def asal_sayı_aracı(x):\n",
    "\n",
    "    \"\"\"Bu fonksiyon sayıların asal sayı olup olmadığını gösterir\"\"\"\n",
    "\n",
    "    if x > 1:\n",
    "\n",
    "        for i in range(2, x):\n",
    "            if x % i == 0:\n",
    "                \n",
    "                break\n",
    "        else:\n",
    "            return x\n",
    "\n",
    "    else:\n",
    "        return(f\"{x} Asal değildir\")"
   ]
  },
  {
   "cell_type": "code",
   "execution_count": null,
   "metadata": {},
   "outputs": [],
   "source": [
    "result = []\n",
    "\n",
    "for i in range(2,1001):\n",
    "    if asal_sayı_aracı(i) != None:\n",
    "        result.append(i)\n",
    "\n",
    "result"
   ]
  },
  {
   "cell_type": "code",
   "execution_count": 4,
   "metadata": {},
   "outputs": [
    {
     "ename": "KeyboardInterrupt",
     "evalue": "Interrupted by user",
     "output_type": "error",
     "traceback": [
      "\u001b[0;31m---------------------------------------------------------------------------\u001b[0m",
      "\u001b[0;31mKeyboardInterrupt\u001b[0m                         Traceback (most recent call last)",
      "Cell \u001b[0;32mIn[4], line 44\u001b[0m\n\u001b[1;32m     40\u001b[0m     \u001b[38;5;28;01melse\u001b[39;00m:\n\u001b[1;32m     41\u001b[0m         \u001b[38;5;28mprint\u001b[39m(\u001b[38;5;124m\"\u001b[39m\u001b[38;5;124mSüper aile değildir\u001b[39m\u001b[38;5;124m\"\u001b[39m)\n\u001b[0;32m---> 44\u001b[0m anne_adı \u001b[38;5;241m=\u001b[39m \u001b[38;5;28;43minput\u001b[39;49m\u001b[43m(\u001b[49m\u001b[38;5;124;43m\"\u001b[39;49m\u001b[38;5;124;43mAnne ismi giriniz\u001b[39;49m\u001b[38;5;124;43m\"\u001b[39;49m\u001b[43m)\u001b[49m\n\u001b[1;32m     45\u001b[0m baba_adı \u001b[38;5;241m=\u001b[39m \u001b[38;5;28minput\u001b[39m(\u001b[38;5;124m\"\u001b[39m\u001b[38;5;124mBaba adı giriniz\u001b[39m\u001b[38;5;124m\"\u001b[39m)\n\u001b[1;32m     46\u001b[0m çocuk_adı \u001b[38;5;241m=\u001b[39m \u001b[38;5;28minput\u001b[39m(\u001b[38;5;124m\"\u001b[39m\u001b[38;5;124mÇocuk adı giriniz\u001b[39m\u001b[38;5;124m\"\u001b[39m)\n",
      "File \u001b[0;32m~/Library/Python/3.12/lib/python/site-packages/ipykernel/kernelbase.py:1270\u001b[0m, in \u001b[0;36mKernel.raw_input\u001b[0;34m(self, prompt)\u001b[0m\n\u001b[1;32m   1268\u001b[0m     msg \u001b[38;5;241m=\u001b[39m \u001b[38;5;124m\"\u001b[39m\u001b[38;5;124mraw_input was called, but this frontend does not support input requests.\u001b[39m\u001b[38;5;124m\"\u001b[39m\n\u001b[1;32m   1269\u001b[0m     \u001b[38;5;28;01mraise\u001b[39;00m StdinNotImplementedError(msg)\n\u001b[0;32m-> 1270\u001b[0m \u001b[38;5;28;01mreturn\u001b[39;00m \u001b[38;5;28;43mself\u001b[39;49m\u001b[38;5;241;43m.\u001b[39;49m\u001b[43m_input_request\u001b[49m\u001b[43m(\u001b[49m\n\u001b[1;32m   1271\u001b[0m \u001b[43m    \u001b[49m\u001b[38;5;28;43mstr\u001b[39;49m\u001b[43m(\u001b[49m\u001b[43mprompt\u001b[49m\u001b[43m)\u001b[49m\u001b[43m,\u001b[49m\n\u001b[1;32m   1272\u001b[0m \u001b[43m    \u001b[49m\u001b[38;5;28;43mself\u001b[39;49m\u001b[38;5;241;43m.\u001b[39;49m\u001b[43m_parent_ident\u001b[49m\u001b[43m[\u001b[49m\u001b[38;5;124;43m\"\u001b[39;49m\u001b[38;5;124;43mshell\u001b[39;49m\u001b[38;5;124;43m\"\u001b[39;49m\u001b[43m]\u001b[49m\u001b[43m,\u001b[49m\n\u001b[1;32m   1273\u001b[0m \u001b[43m    \u001b[49m\u001b[38;5;28;43mself\u001b[39;49m\u001b[38;5;241;43m.\u001b[39;49m\u001b[43mget_parent\u001b[49m\u001b[43m(\u001b[49m\u001b[38;5;124;43m\"\u001b[39;49m\u001b[38;5;124;43mshell\u001b[39;49m\u001b[38;5;124;43m\"\u001b[39;49m\u001b[43m)\u001b[49m\u001b[43m,\u001b[49m\n\u001b[1;32m   1274\u001b[0m \u001b[43m    \u001b[49m\u001b[43mpassword\u001b[49m\u001b[38;5;241;43m=\u001b[39;49m\u001b[38;5;28;43;01mFalse\u001b[39;49;00m\u001b[43m,\u001b[49m\n\u001b[1;32m   1275\u001b[0m \u001b[43m\u001b[49m\u001b[43m)\u001b[49m\n",
      "File \u001b[0;32m~/Library/Python/3.12/lib/python/site-packages/ipykernel/kernelbase.py:1313\u001b[0m, in \u001b[0;36mKernel._input_request\u001b[0;34m(self, prompt, ident, parent, password)\u001b[0m\n\u001b[1;32m   1310\u001b[0m \u001b[38;5;28;01mexcept\u001b[39;00m \u001b[38;5;167;01mKeyboardInterrupt\u001b[39;00m:\n\u001b[1;32m   1311\u001b[0m     \u001b[38;5;66;03m# re-raise KeyboardInterrupt, to truncate traceback\u001b[39;00m\n\u001b[1;32m   1312\u001b[0m     msg \u001b[38;5;241m=\u001b[39m \u001b[38;5;124m\"\u001b[39m\u001b[38;5;124mInterrupted by user\u001b[39m\u001b[38;5;124m\"\u001b[39m\n\u001b[0;32m-> 1313\u001b[0m     \u001b[38;5;28;01mraise\u001b[39;00m \u001b[38;5;167;01mKeyboardInterrupt\u001b[39;00m(msg) \u001b[38;5;28;01mfrom\u001b[39;00m \u001b[38;5;28;01mNone\u001b[39;00m\n\u001b[1;32m   1314\u001b[0m \u001b[38;5;28;01mexcept\u001b[39;00m \u001b[38;5;167;01mException\u001b[39;00m:\n\u001b[1;32m   1315\u001b[0m     \u001b[38;5;28mself\u001b[39m\u001b[38;5;241m.\u001b[39mlog\u001b[38;5;241m.\u001b[39mwarning(\u001b[38;5;124m\"\u001b[39m\u001b[38;5;124mInvalid Message:\u001b[39m\u001b[38;5;124m\"\u001b[39m, exc_info\u001b[38;5;241m=\u001b[39m\u001b[38;5;28;01mTrue\u001b[39;00m)\n",
      "\u001b[0;31mKeyboardInterrupt\u001b[0m: Interrupted by user"
     ]
    }
   ],
   "source": [
    "def super_aile(anne_adı, baba_adı, çocuk_adı):\n",
    "\n",
    "    sessiz = \"bcçdfgğhjklmnpqrsştvwxyz\"\n",
    "    anne_sessiz = \"\"\n",
    "    baba_sessiz = \"\"\n",
    "    çocuk_sessiz = \"\"\n",
    "    anne_baba = set(anne_sessiz + baba_sessiz)\n",
    "    anneden_gelen = \"\"\n",
    "    babadan_gelen = \"\"\n",
    "    \n",
    "    for i in sessiz:\n",
    "        if i in çocuk_adı:\n",
    "            çocuk_sessiz += i\n",
    "\n",
    "    for i in sessiz:\n",
    "        if i in baba_adı:\n",
    "            baba_sessiz += i\n",
    "\n",
    "    for i in sessiz:\n",
    "        if i in anne_adı:\n",
    "            anne_sessiz += i\n",
    "\n",
    "    for i in çocuk_sessiz:\n",
    "        if çocuk_sessiz not in anne_baba:\n",
    "            break\n",
    "        else:\n",
    "            return\n",
    "        \n",
    "\n",
    "    for i in çocuk_sessiz:\n",
    "        if i in baba_sessiz:\n",
    "            babadan_gelen += i\n",
    "            \n",
    "    for i in çocuk_sessiz:\n",
    "        if i in anne_sessiz:\n",
    "            anneden_gelen += i\n",
    "\n",
    "    if anneden_gelen and babadan_gelen:\n",
    "        print(f\"Bu aile süper ailedir. anneden gelen harf:{anneden_gelen} ve babadan gelen harf: {babadan_gelen}\")\n",
    "    else:\n",
    "        print(\"Süper aile değildir\")\n",
    "    \n",
    "\n",
    "anne_adı = input(\"Anne ismi giriniz\")\n",
    "baba_adı = input(\"Baba adı giriniz\")\n",
    "çocuk_adı = input(\"Çocuk adı giriniz\")\n",
    "super_aile(anne_adı, baba_adı, çocuk_adı)\n",
    "\n",
    "        "
   ]
  },
  {
   "cell_type": "code",
   "execution_count": 65,
   "metadata": {},
   "outputs": [
    {
     "name": "stdout",
     "output_type": "stream",
     "text": [
      "Bu aile süper ailedir. anneden gelen harf:v ve babadan gelen harf: l\n"
     ]
    }
   ],
   "source": [
    "anne_adı = input(\"Anne ismi giriniz\")\n",
    "baba_adı = input(\"Baba adı giriniz\")\n",
    "çocuk_adı = input(\"Çocuk adı giriniz\")\n",
    "super_aile(anne_adı, baba_adı, çocuk_adı)"
   ]
  },
  {
   "cell_type": "code",
   "execution_count": 62,
   "metadata": {},
   "outputs": [
    {
     "name": "stdout",
     "output_type": "stream",
     "text": [
      "Süper aile değildir\n"
     ]
    }
   ],
   "source": [
    "anne_adı = input(\"Anne ismi giriniz\")\n",
    "baba_adı = input(\"Baba adı giriniz\")\n",
    "çocuk_adı = input(\"Çocuk adı giriniz\")\n",
    "super_aile(anne_adı, baba_adı, çocuk_adı)"
   ]
  },
  {
   "cell_type": "code",
   "execution_count": null,
   "metadata": {},
   "outputs": [],
   "source": [
    "# hocanın çözümü\n",
    "baba = input(\"isim girin\").lower()\n",
    "anne = input(\"isim girin\").lower()\n",
    "cocuk = input(\"isim girin\").lower()\n",
    "\n",
    "cocuk_sessiz_harfler = \"\"\n",
    "\n",
    "for i in cocuk:\n",
    "    if i not in \"aeiıuüoö\":\n",
    "        cocuk_sessiz_harfler += i\n",
    "\n",
    "if len(set(anne) & set(cocuk_sessiz_harfler)) > 0 and len(set(baba) & set(cocuk_sessiz_harfler)) > 0 and set(cocuk_sessiz_harfler).issubset(set(anne) | set(baba)):\n",
    "    print(\"bu aile süper ailedir\")\n",
    "else:\n",
    "    print(\"çocuğa isim bile koyamadınız\")"
   ]
  },
  {
   "cell_type": "code",
   "execution_count": null,
   "metadata": {},
   "outputs": [],
   "source": [
    "def super_aile(anne,baba,cocuk):\n",
    "\n",
    "    anne = anne.lower()\n",
    "    baba = baba.lower()\n",
    "    cocuk = cocuk.lower()\n",
    "\n",
    "    cocuk_sessiz_harfler = \"\"\n",
    "\n",
    "    for i in cocuk:\n",
    "        if i not in \"aeiıuüoö\":\n",
    "            cocuk_sessiz_harfler += i\n",
    "\n",
    "    if len(set(anne) & set(cocuk_sessiz_harfler)) > 0 and len(set(baba) & set(cocuk_sessiz_harfler)) > 0 and set(cocuk_sessiz_harfler).issubset(set(anne) | set(baba)):\n",
    "        print(\"bu aile süper ailedir\")\n",
    "        \n",
    "    else:\n",
    "        print(\"çocuğa isim bile koyamadınız\")"
   ]
  }
 ],
 "metadata": {
  "kernelspec": {
   "display_name": "Python 3",
   "language": "python",
   "name": "python3"
  },
  "language_info": {
   "codemirror_mode": {
    "name": "ipython",
    "version": 3
   },
   "file_extension": ".py",
   "mimetype": "text/x-python",
   "name": "python",
   "nbconvert_exporter": "python",
   "pygments_lexer": "ipython3",
   "version": "3.12.1"
  }
 },
 "nbformat": 4,
 "nbformat_minor": 2
}
