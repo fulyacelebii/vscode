{
 "cells": [
  {
   "cell_type": "markdown",
   "metadata": {},
   "source": [
    "# Random modülü  (çağırılması, aktarılması gerekir)"
   ]
  },
  {
   "cell_type": "code",
   "execution_count": 1,
   "metadata": {},
   "outputs": [],
   "source": [
    "import random"
   ]
  },
  {
   "cell_type": "code",
   "execution_count": 5,
   "metadata": {},
   "outputs": [
    {
     "data": {
      "text/plain": [
       "0.22733543061276973"
      ]
     },
     "execution_count": 5,
     "metadata": {},
     "output_type": "execute_result"
    }
   ],
   "source": [
    "random.random()"
   ]
  },
  {
   "cell_type": "code",
   "execution_count": 8,
   "metadata": {},
   "outputs": [
    {
     "data": {
      "text/plain": [
       "0.5486946056438222"
      ]
     },
     "execution_count": 8,
     "metadata": {},
     "output_type": "execute_result"
    }
   ],
   "source": [
    "random.seed(35)  # sonuç değişmez, sabit değer verir.\n",
    "random.random()"
   ]
  },
  {
   "cell_type": "code",
   "execution_count": 9,
   "metadata": {},
   "outputs": [
    {
     "data": {
      "text/plain": [
       "3"
      ]
     },
     "execution_count": 9,
     "metadata": {},
     "output_type": "execute_result"
    }
   ],
   "source": [
    "random.randint(2, 5)  # 2 yazı yazarız ve bu sayılar da dahildir."
   ]
  },
  {
   "cell_type": "code",
   "execution_count": 13,
   "metadata": {},
   "outputs": [
    {
     "data": {
      "text/plain": [
       "47"
      ]
     },
     "execution_count": 13,
     "metadata": {},
     "output_type": "execute_result"
    }
   ],
   "source": [
    "random.randrange(4,100)"
   ]
  },
  {
   "cell_type": "code",
   "execution_count": 14,
   "metadata": {},
   "outputs": [
    {
     "data": {
      "text/plain": [
       "[19, 36, 55, 32, 72]"
      ]
     },
     "execution_count": 14,
     "metadata": {},
     "output_type": "execute_result"
    }
   ],
   "source": [
    "random.sample(range(100), 5)  # 5 tane 100'e kadar random sayı üretir."
   ]
  },
  {
   "cell_type": "code",
   "execution_count": 15,
   "metadata": {},
   "outputs": [
    {
     "name": "stdout",
     "output_type": "stream",
     "text": [
      "Girdiğiniz sayı : 45. Tahminini azalt\n",
      "Girdiğiniz sayı : 35. Tahminini azalt\n",
      "Girdiğiniz sayı : 87. Tahminini azalt\n",
      "Girdiğiniz sayı : 98. Tahminini azalt\n",
      "Girdiğiniz sayı : 76. Tahminini azalt\n",
      "Girdiğiniz sayı : 14. Tahminini azalt\n",
      "Girdiğiniz sayı : 4. Tahminini arttır\n",
      "Girdiğiniz sayı : 3. Tahminini arttır\n",
      "Girdiğiniz sayı : 5. Tahminini arttır\n",
      "Girdiğiniz sayı : 6. Tahminini arttır\n",
      "Girdiğiniz sayı : 8. Doğru bildiniz. Tebrikler. \n"
     ]
    }
   ],
   "source": [
    "# Random sayı seçti sistem. tahmin etmeye çalışıyoruz.\n",
    "y = True\n",
    "aklımdaki_sayı = random.randint(1,100)\n",
    "while y:\n",
    "    tahmin = int(input(\"1 ile 100 arasında bir sayı tahmin edin.\"))\n",
    "    if aklımdaki_sayı < tahmin:\n",
    "        print(f\"Girdiğiniz sayı : {tahmin}. Tahminini azalt\")\n",
    "    elif aklımdaki_sayı > tahmin:\n",
    "        print(f\"Girdiğiniz sayı : {tahmin}. Tahminini arttır\")\n",
    "    else:\n",
    "        print(f\"Girdiğiniz sayı : {tahmin}. Doğru bildiniz. Tebrikler. \")\n",
    "        y = False"
   ]
  },
  {
   "cell_type": "code",
   "execution_count": 17,
   "metadata": {},
   "outputs": [
    {
     "name": "stdout",
     "output_type": "stream",
     "text": [
      "Girdiğiniz sayı : 96. Tahminini azalt\n",
      "Girdiğiniz sayı : 4. Tahminini arttır\n",
      "Girdiğiniz sayı : 5. Tahminini arttır\n",
      "Girdiğiniz sayı : 6. Tahminini arttır\n",
      "Girdiğiniz sayı : 7. Tahminini arttır\n",
      "Girdiğiniz sayı : 4. Tahminini arttır\n",
      "Girdiğiniz sayı : 3. Tahminini arttır\n",
      "Girdiğiniz sayı : 98. Tahminini azalt\n",
      "Girdiğiniz sayı : 65. Tahminini arttır\n"
     ]
    }
   ],
   "source": [
    "\n",
    "aklımdaki_sayı = random.randint(1,100)\n",
    "while True:\n",
    "    tahmin = int(input(\"1 ile 100 arasında bir sayı tahmin edin.\"))\n",
    "    if aklımdaki_sayı < tahmin:\n",
    "        print(f\"Girdiğiniz sayı : {tahmin}. Tahminini azalt\")\n",
    "    elif aklımdaki_sayı > tahmin:\n",
    "        print(f\"Girdiğiniz sayı : {tahmin}. Tahminini arttır\")\n",
    "    else:\n",
    "        print(f\"Girdiğiniz sayı : {tahmin}. Doğru bildiniz. Tebrikler. \")\n",
    "        break"
   ]
  },
  {
   "cell_type": "code",
   "execution_count": 3,
   "metadata": {},
   "outputs": [
    {
     "name": "stdout",
     "output_type": "stream",
     "text": [
      "Girdiğiniz sayı : 54. Tahminini azalt\n",
      "Girdiğiniz sayı : 65. Tahminini azalt\n",
      "Girdiğiniz sayı : 43. Tahminini arttır\n",
      "Girdiğiniz sayı : 6. Tahminini arttır\n",
      "Girdiğiniz sayı : 4. Tahminini arttır\n",
      "5 hakkın bitti\n"
     ]
    }
   ],
   "source": [
    "\n",
    "aklımdaki_sayı = random.randint(1,100)\n",
    "sayaç = 0\n",
    "while True:\n",
    "    tahmin = int(input(\"1 ile 100 arasında bir sayı tahmin edin.\"))\n",
    "    sayaç += 1\n",
    "    if aklımdaki_sayı < tahmin:\n",
    "        print(f\"Girdiğiniz sayı : {tahmin}. Tahminini azalt\")\n",
    "    elif aklımdaki_sayı > tahmin:\n",
    "        print(f\"Girdiğiniz sayı : {tahmin}. Tahminini arttır\")\n",
    "    else:\n",
    "        print(f\"Girdiğiniz sayı : {tahmin}. Doğru bildiniz. Tebrikler. \")\n",
    "        break\n",
    "    if sayaç == 5:\n",
    "        print(\"5 hakkın bitti\")\n",
    "        break"
   ]
  },
  {
   "cell_type": "code",
   "execution_count": 5,
   "metadata": {},
   "outputs": [
    {
     "name": "stdout",
     "output_type": "stream",
     "text": [
      "Girdiğiniz sayı : 5. Tahminini arttır\n",
      "Girdiğiniz sayı : 32. Tahminini azalt\n",
      "Girdiğiniz sayı : 25. Tahminini azalt\n",
      "Girdiğiniz sayı : 20. Tahminini arttır\n"
     ]
    }
   ],
   "source": [
    "import time\n",
    "aklımdaki_sayı = random.randint(1,100)\n",
    "\n",
    "time.sleep(2)\n",
    "\n",
    "sayaç = 0\n",
    "\n",
    "while True:\n",
    "\n",
    "    tahmin = int(input(\"1 ile 100 arasında bir sayı tahmin edin.\"))\n",
    "\n",
    "    sayaç += 1\n",
    "\n",
    "    time.sleep(2)  #kodları 2 saniye bekletmek için yazdık. nerede bekletmek istiyorsak oraya eklenir.\n",
    "\n",
    "    if aklımdaki_sayı < tahmin:\n",
    "        print(f\"Girdiğiniz sayı : {tahmin}. Tahminini azalt\")\n",
    "\n",
    "    elif aklımdaki_sayı > tahmin:\n",
    "        print(f\"Girdiğiniz sayı : {tahmin}. Tahminini arttır\")\n",
    "\n",
    "    else:\n",
    "        print(f\"Girdiğiniz sayı : {tahmin}. Doğru bildiniz. Tebrikler. \")\n",
    "        break\n",
    "\n",
    "    time.sleep(2)\n",
    "\n",
    "    if sayaç == 5:\n",
    "        print(f\"5 hakkın bitti. sayı {aklımdaki_sayı}\")\n",
    "        break"
   ]
  },
  {
   "cell_type": "markdown",
   "metadata": {},
   "source": [
    "# break"
   ]
  },
  {
   "cell_type": "code",
   "execution_count": 7,
   "metadata": {},
   "outputs": [
    {
     "name": "stdout",
     "output_type": "stream",
     "text": [
      "10\n"
     ]
    }
   ],
   "source": [
    "liste = [1,2,3,4, \"Techpro\", 5, 6, 7] # int ifadelerin toplamını yazdırın ama str gelince döngü bitsin.\n",
    "\n",
    "x = 0  # listenin elemanlarına indekslerden ulaşacağız o yüzden 0\n",
    "\n",
    "toplam = 0\n",
    "\n",
    "while x < len(liste):\n",
    "\n",
    "    if type(liste[x]) == int:\n",
    "        toplam += liste[x]  # toplam artacak devamlı\n",
    "    else:    # yada elif type(liste[x]) == str: break yazabiliriz.\n",
    "        break  #break döngüyü bitirir ama döngünündışında kodlar varsa onlar çalışmaya devam eder.\n",
    "\n",
    "    x += 1\n",
    "\n",
    "print(toplam)\n"
   ]
  },
  {
   "cell_type": "code",
   "execution_count": 14,
   "metadata": {},
   "outputs": [
    {
     "name": "stdout",
     "output_type": "stream",
     "text": [
      "28\n"
     ]
    }
   ],
   "source": [
    "liste = [1,2,3,4, \"Techpro\", 5, 6, 7] # int ifadelerin toplamını yazdırın ama str gelince o ifadeyi atlayın ve devam edin.\n",
    "\n",
    "x = 0  # listenin elemanlarına indekslerden ulaşacağız o yüzden 0\n",
    "\n",
    "toplam = 0\n",
    "\n",
    "while x < len(liste):\n",
    "\n",
    "    if type(liste[x]) == int:\n",
    "        toplam += liste[x]  # toplam artacak devamlı\n",
    "    else:    # yada elif type(liste[x]) == str: break yazabiliriz.\n",
    "        x += 1    # buraya da eklememiz lazım.continiu kendinden sonraki işlemleri görmez.\n",
    "        continue\n",
    "\n",
    "    x += 1\n",
    "\n",
    "print(toplam)\n",
    "\n"
   ]
  },
  {
   "cell_type": "markdown",
   "metadata": {},
   "source": [
    "min(), max()"
   ]
  },
  {
   "cell_type": "code",
   "execution_count": 18,
   "metadata": {},
   "outputs": [],
   "source": [
    "liste_1 = [2, 3, 5, 1, 3, 9, 4, 6, 8, 15, 48, 256]"
   ]
  },
  {
   "cell_type": "code",
   "execution_count": 19,
   "metadata": {},
   "outputs": [
    {
     "data": {
      "text/plain": [
       "1"
      ]
     },
     "execution_count": 19,
     "metadata": {},
     "output_type": "execute_result"
    }
   ],
   "source": [
    "min(liste_1)"
   ]
  },
  {
   "cell_type": "code",
   "execution_count": 20,
   "metadata": {},
   "outputs": [
    {
     "data": {
      "text/plain": [
       "256"
      ]
     },
     "execution_count": 20,
     "metadata": {},
     "output_type": "execute_result"
    }
   ],
   "source": [
    "max(liste_1)"
   ]
  },
  {
   "cell_type": "code",
   "execution_count": 21,
   "metadata": {},
   "outputs": [
    {
     "data": {
      "text/plain": [
       "'ayhan'"
      ]
     },
     "execution_count": 21,
     "metadata": {},
     "output_type": "execute_result"
    }
   ],
   "source": [
    "min([\"techpro\", \"ayhan\", \"irem\"])  #ascii"
   ]
  },
  {
   "cell_type": "code",
   "execution_count": 39,
   "metadata": {},
   "outputs": [],
   "source": [
    "liste_1 = [4,5,6,9,85,23,65,47,32,91] #listenin en küçük ve en büyük elemanını min ve max fonksiyonu kullanmadan bulun. sort fonk da kullanmayın."
   ]
  },
  {
   "cell_type": "code",
   "execution_count": 51,
   "metadata": {},
   "outputs": [
    {
     "name": "stdout",
     "output_type": "stream",
     "text": [
      "liste içerisindeki en küçük sayı: 4\n",
      "liste içerisindeki en büyük sayı: 91\n"
     ]
    }
   ],
   "source": [
    "x = 0\n",
    "\n",
    "büyük = liste_1[0]\n",
    "küçük = liste_1[0]\n",
    "\n",
    "while x < len(liste_1):\n",
    "    if küçük > liste_1[x]:\n",
    "        küçük = liste_1[x]\n",
    "    elif büyük < liste_1[x]:\n",
    "        büyük = liste_1[x]\n",
    "    x +=1\n",
    "\n",
    "print(f\"\"\"liste içerisindeki en küçük sayı: {küçük}\n",
    "liste içerisindeki en büyük sayı: {büyük}\"\"\")"
   ]
  },
  {
   "cell_type": "code",
   "execution_count": null,
   "metadata": {},
   "outputs": [],
   "source": []
  }
 ],
 "metadata": {
  "kernelspec": {
   "display_name": "Python 3",
   "language": "python",
   "name": "python3"
  },
  "language_info": {
   "codemirror_mode": {
    "name": "ipython",
    "version": 3
   },
   "file_extension": ".py",
   "mimetype": "text/x-python",
   "name": "python",
   "nbconvert_exporter": "python",
   "pygments_lexer": "ipython3",
   "version": "3.12.1"
  }
 },
 "nbformat": 4,
 "nbformat_minor": 2
}
