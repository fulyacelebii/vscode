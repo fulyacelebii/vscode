{
 "cells": [
  {
   "cell_type": "markdown",
   "metadata": {},
   "source": [
    "## positional and Keyword Arguments"
   ]
  },
  {
   "cell_type": "code",
   "execution_count": 1,
   "metadata": {},
   "outputs": [],
   "source": [
    "def my_name(first_name, last_name):\n",
    "\n",
    "    print(f\"My name is {first_name} {last_name}\")"
   ]
  },
  {
   "cell_type": "code",
   "execution_count": 2,
   "metadata": {},
   "outputs": [
    {
     "name": "stdout",
     "output_type": "stream",
     "text": [
      "My name is Fulya Çelebi\n"
     ]
    }
   ],
   "source": [
    "my_name(\"Fulya\", \"Çelebi\")"
   ]
  },
  {
   "cell_type": "code",
   "execution_count": 3,
   "metadata": {},
   "outputs": [
    {
     "name": "stdout",
     "output_type": "stream",
     "text": [
      "My name is Çelebi Fulya\n"
     ]
    }
   ],
   "source": [
    "my_name(\"Çelebi\", \"Fulya\")"
   ]
  },
  {
   "cell_type": "code",
   "execution_count": 4,
   "metadata": {},
   "outputs": [
    {
     "name": "stdout",
     "output_type": "stream",
     "text": [
      "My name is Fulya Çelebi\n"
     ]
    }
   ],
   "source": [
    "my_name(last_name=\"Çelebi\", first_name=\"Fulya\")  # yukarıda ters yazdığımızda ters verdi. burada sıranın önemi kalmadı"
   ]
  },
  {
   "cell_type": "code",
   "execution_count": 7,
   "metadata": {},
   "outputs": [],
   "source": [
    "def your_name(first_name, last_name = \"Erdal\"):\n",
    "\n",
    "    print(f\"Your name is {first_name} {last_name}\")"
   ]
  },
  {
   "cell_type": "code",
   "execution_count": 6,
   "metadata": {},
   "outputs": [
    {
     "name": "stdout",
     "output_type": "stream",
     "text": [
      "My name is Betül Erdal\n"
     ]
    }
   ],
   "source": [
    "your_name(\"Betül\")  # soyad verildi fonksiyonda o yüzden sadece isim girince çalışır. tanımlamasaydık çalışmazdı."
   ]
  },
  {
   "cell_type": "code",
   "execution_count": 8,
   "metadata": {},
   "outputs": [
    {
     "name": "stdout",
     "output_type": "stream",
     "text": [
      "Your name is Fulya Çelebi\n"
     ]
    }
   ],
   "source": [
    "your_name(\"Fulya\", \"Çelebi\")  # varsayılan soyad olsa da değiştirilebilir."
   ]
  },
  {
   "cell_type": "code",
   "execution_count": 9,
   "metadata": {},
   "outputs": [
    {
     "name": "stdout",
     "output_type": "stream",
     "text": [
      "Your name is Umut Erdal\n"
     ]
    }
   ],
   "source": [
    "your_name(\"Umut\")  # soyad değişmez ama"
   ]
  },
  {
   "cell_type": "code",
   "execution_count": 10,
   "metadata": {},
   "outputs": [
    {
     "ename": "SyntaxError",
     "evalue": "positional argument follows keyword argument (1565710725.py, line 1)",
     "output_type": "error",
     "traceback": [
      "\u001b[0;36m  Cell \u001b[0;32mIn[10], line 1\u001b[0;36m\u001b[0m\n\u001b[0;31m    your_name(last_name=\"yıldız\", \"murat\") # önce positional olanlar yazılmalı\u001b[0m\n\u001b[0m                                         ^\u001b[0m\n\u001b[0;31mSyntaxError\u001b[0m\u001b[0;31m:\u001b[0m positional argument follows keyword argument\n"
     ]
    }
   ],
   "source": [
    "your_name(last_name=\"yıldız\", \"murat\") # önce positional olanlar yazılmalı yoksa hata alırız"
   ]
  },
  {
   "cell_type": "code",
   "execution_count": 11,
   "metadata": {},
   "outputs": [
    {
     "name": "stdout",
     "output_type": "stream",
     "text": [
      "Your name is murat yıldız\n"
     ]
    }
   ],
   "source": [
    "your_name(\"murat\", last_name=\"yıldız\")  "
   ]
  },
  {
   "cell_type": "code",
   "execution_count": 16,
   "metadata": {},
   "outputs": [
    {
     "ename": "SyntaxError",
     "evalue": "parameter without a default follows parameter with a default (954336618.py, line 1)",
     "output_type": "error",
     "traceback": [
      "\u001b[0;36m  Cell \u001b[0;32mIn[16], line 1\u001b[0;36m\u001b[0m\n\u001b[0;31m    def your_name_2(first_name, second_name= \"Ali\", last_name):  #tanımlama yapacaksak en sona tanımlamalıyız ortaya olmaz.\u001b[0m\n\u001b[0m                                                    ^\u001b[0m\n\u001b[0;31mSyntaxError\u001b[0m\u001b[0;31m:\u001b[0m parameter without a default follows parameter with a default\n"
     ]
    }
   ],
   "source": [
    "def your_name_2(first_name, second_name= \"Ali\", last_name):  #tanımlama yapacaksak en sona tanımlamalıyız ortaya olmaz.\n",
    "    print({f\"first_name} {second_name} {last_name}\")"
   ]
  },
  {
   "cell_type": "code",
   "execution_count": 18,
   "metadata": {},
   "outputs": [
    {
     "name": "stdout",
     "output_type": "stream",
     "text": [
      "muhammet Ali akil\n"
     ]
    }
   ],
   "source": [
    "def your_name_2(first_name, last_name, second_name= \"Ali\"):  #tanımlama yapacaksak en sona tanımlamalıyız ortaya olmaz.\n",
    "    print(f\"{first_name} {second_name} {last_name}\")\n",
    "\n",
    "your_name_2(\"muhammet\", \"akil\")"
   ]
  },
  {
   "cell_type": "code",
   "execution_count": 19,
   "metadata": {},
   "outputs": [],
   "source": [
    "def tek_sayılar(a, b, c, d, e):\n",
    "\n",
    "    tek_sayılar = []\n",
    "\n",
    "    for i in a, b, c, d, e:\n",
    "\n",
    "        if i % 2:\n",
    "            tek_sayılar.append(i)\n",
    "    return tek_sayılar"
   ]
  },
  {
   "cell_type": "code",
   "execution_count": 20,
   "metadata": {},
   "outputs": [
    {
     "data": {
      "text/plain": [
       "[75, 45, 15]"
      ]
     },
     "execution_count": 20,
     "metadata": {},
     "output_type": "execute_result"
    }
   ],
   "source": [
    "tek_sayılar(4, 75, 45, 26, 15)"
   ]
  },
  {
   "cell_type": "markdown",
   "metadata": {},
   "source": [
    "## Arbitrary Number of Arguments(* args, **kwargs)"
   ]
  },
  {
   "cell_type": "markdown",
   "metadata": {},
   "source": [
    "## *args"
   ]
  },
  {
   "cell_type": "code",
   "execution_count": 21,
   "metadata": {},
   "outputs": [],
   "source": [
    "def tek_sayılar_2(* sayılar):   #kaç argüman vereceğimizi bilmiyoruz * kullandık o yüzden\n",
    "\n",
    "    tek_sayılar_2 = []\n",
    "\n",
    "    for i in sayılar:\n",
    "\n",
    "        if i % 2:\n",
    "            tek_sayılar_2.append(i)\n",
    "    return tek_sayılar_2"
   ]
  },
  {
   "cell_type": "code",
   "execution_count": 22,
   "metadata": {},
   "outputs": [
    {
     "data": {
      "text/plain": [
       "[25, 15, 17, 19]"
      ]
     },
     "execution_count": 22,
     "metadata": {},
     "output_type": "execute_result"
    }
   ],
   "source": [
    "tek_sayılar_2(4, 25, 36, 15, 17, 2, 6, 4, 19, 18)"
   ]
  },
  {
   "cell_type": "code",
   "execution_count": 34,
   "metadata": {},
   "outputs": [],
   "source": [
    "def sayılar_2(* sayılar):\n",
    "    \n",
    "    tek_çift = []\n",
    "    for i in sayılar:\n",
    "        if i % 2:\n",
    "           tek_çift.append(i ** 2)\n",
    "        else:\n",
    "            tek_çift.append(i * 2)\n",
    "    return tek_çift\n",
    "    \n"
   ]
  },
  {
   "cell_type": "code",
   "execution_count": 35,
   "metadata": {},
   "outputs": [
    {
     "data": {
      "text/plain": [
       "[8, 625, 52, 28, 88, 68, 4225, 156]"
      ]
     },
     "execution_count": 35,
     "metadata": {},
     "output_type": "execute_result"
    }
   ],
   "source": [
    "sayılar_2(4, 25, 26, 14, 44, 34, 65, 78)"
   ]
  },
  {
   "cell_type": "code",
   "execution_count": 37,
   "metadata": {},
   "outputs": [],
   "source": [
    "def sayılar_3(* sayılar):\n",
    "\n",
    "    return [i * 2 if i %2 == 0 else i ** 2 for i in sayılar]"
   ]
  },
  {
   "cell_type": "code",
   "execution_count": 38,
   "metadata": {},
   "outputs": [
    {
     "data": {
      "text/plain": [
       "[1, 4, 9, 8, 25, 12, 49, 16, 81]"
      ]
     },
     "execution_count": 38,
     "metadata": {},
     "output_type": "execute_result"
    }
   ],
   "source": [
    "sayılar_3(1, 2, 3, 4, 5, 6, 7, 8, 9)"
   ]
  },
  {
   "cell_type": "code",
   "execution_count": 39,
   "metadata": {},
   "outputs": [
    {
     "data": {
      "text/plain": [
       "[1, 4, 9, 8, 25, 12, 49, 16, 81]"
      ]
     },
     "execution_count": 39,
     "metadata": {},
     "output_type": "execute_result"
    }
   ],
   "source": [
    "sayılar_3(* range(1, 10))  # range ile yazacaksak da * koymalıyız. randomla da yapabiliriz."
   ]
  },
  {
   "cell_type": "code",
   "execution_count": 40,
   "metadata": {},
   "outputs": [
    {
     "name": "stdout",
     "output_type": "stream",
     "text": [
      "F u l y a\n"
     ]
    }
   ],
   "source": [
    "print(* \"Fulya\") # elemanları ayırıyor"
   ]
  },
  {
   "cell_type": "markdown",
   "metadata": {},
   "source": [
    "## **kwargs  (dict formatındadır)"
   ]
  },
  {
   "cell_type": "code",
   "execution_count": 42,
   "metadata": {},
   "outputs": [
    {
     "data": {
      "text/plain": [
       "{'name1': 'seyda', 'name2': 'medine', 'name3': 'orkun'}"
      ]
     },
     "execution_count": 42,
     "metadata": {},
     "output_type": "execute_result"
    }
   ],
   "source": [
    "dict_1 = {\"name1\": \"seyda\", \"name2\": \"medine\", \"name3\": \"orkun\"}\n",
    "dict_1"
   ]
  },
  {
   "cell_type": "code",
   "execution_count": 45,
   "metadata": {},
   "outputs": [],
   "source": [
    "def kwargs_functions(** kwargs):\n",
    "\n",
    "    for i, j in kwargs.items():\n",
    "\n",
    "        print(f\"key: {i}, value: {j}\")"
   ]
  },
  {
   "cell_type": "code",
   "execution_count": 46,
   "metadata": {},
   "outputs": [
    {
     "name": "stdout",
     "output_type": "stream",
     "text": [
      "key: name4, value: Oğuz\n",
      "key: name5, value: murat\n",
      "key: name6, value: yıldız\n"
     ]
    }
   ],
   "source": [
    "kwargs_functions(name4= \"Oğuz\", name5= \"murat\", name6= \"yıldız\") #içine kaç tane ikili girersek o kadar verir."
   ]
  },
  {
   "cell_type": "code",
   "execution_count": 47,
   "metadata": {},
   "outputs": [
    {
     "name": "stdout",
     "output_type": "stream",
     "text": [
      "key: name1, value: seyda\n",
      "key: name2, value: medine\n",
      "key: name3, value: orkun\n"
     ]
    }
   ],
   "source": [
    "kwargs_functions(** dict_1)  # ** koymayı unutma balım"
   ]
  },
  {
   "cell_type": "markdown",
   "metadata": {},
   "source": [
    "### Anne, baba ve çocuktan oluşan çekirdek ailenin Süper aile olup olmadığını bulan kodu yazın. isimleri kullanıcıdan isteyin. (Çocuğun ismindeki sessiz harflerin hepsi, anne ve babanın isimlerinde var ise bu aile süper ailedir.(Not: anne ve baba isminden en az bir tane olmalı.). örn1: baba adı = \"Halil\", anne adı= \"Merve\", çocuk adı= \"Veli\" >> Süper aile. (\"v\" anneden, \"l\" babadan) örn2: baba adı = \"Murat\", anne adı= \"Songül\", çocuk adı= \"Mert\" >> Süper aile değil. Anneden harf yok."
   ]
  },
  {
   "cell_type": "code",
   "execution_count": 11,
   "metadata": {},
   "outputs": [
    {
     "name": "stdout",
     "output_type": "stream",
     "text": [
      "değil\n"
     ]
    }
   ],
   "source": [
    "anne = \"merve\"\n",
    "baba = \"halil\"\n",
    "çocuk = \"veli\"\n",
    "\n",
    "sessiz = \"bcçdfgğhjklmnpqrsştvwxyz\"\n",
    "cocuk_sessiz = []\n",
    "baba_sessiz = []\n",
    "anne_sessiz = []\n",
    "\n",
    "for i in sessiz:\n",
    "    if i in çocuk:\n",
    "        cocuk_sessiz += i\n",
    "\n",
    "for i in sessiz:\n",
    "    if i in baba:\n",
    "        baba_sessiz += i\n",
    "\n",
    "for i in sessiz:\n",
    "    if i in anne:\n",
    "        anne_sessiz += i\n",
    "\n",
    "if set(cocuk_sessiz).issubset(set(baba_sessiz)) and set(cocuk_sessiz).issubset(set(anne_sessiz)):\n",
    "    print(\"süpeeer\")\n",
    "else:\n",
    "    print(\"değil\")"
   ]
  },
  {
   "cell_type": "code",
   "execution_count": 12,
   "metadata": {},
   "outputs": [
    {
     "data": {
      "text/plain": [
       "['l', 'v']"
      ]
     },
     "execution_count": 12,
     "metadata": {},
     "output_type": "execute_result"
    }
   ],
   "source": [
    "cocuk_sessiz"
   ]
  },
  {
   "cell_type": "code",
   "execution_count": 13,
   "metadata": {},
   "outputs": [
    {
     "data": {
      "text/plain": [
       "['h', 'l']"
      ]
     },
     "execution_count": 13,
     "metadata": {},
     "output_type": "execute_result"
    }
   ],
   "source": [
    "baba_sessiz"
   ]
  },
  {
   "cell_type": "code",
   "execution_count": 14,
   "metadata": {},
   "outputs": [
    {
     "data": {
      "text/plain": [
       "['m', 'r', 'v']"
      ]
     },
     "execution_count": 14,
     "metadata": {},
     "output_type": "execute_result"
    }
   ],
   "source": [
    "anne_sessiz"
   ]
  },
  {
   "cell_type": "code",
   "execution_count": 29,
   "metadata": {},
   "outputs": [
    {
     "ename": "TypeError",
     "evalue": "argument of type 'bool' is not iterable",
     "output_type": "error",
     "traceback": [
      "\u001b[0;31m---------------------------------------------------------------------------\u001b[0m",
      "\u001b[0;31mTypeError\u001b[0m                                 Traceback (most recent call last)",
      "Cell \u001b[0;32mIn[29], line 25\u001b[0m\n\u001b[1;32m     21\u001b[0m         anne_sessiz \u001b[38;5;241m+\u001b[39m\u001b[38;5;241m=\u001b[39m i\n\u001b[1;32m     24\u001b[0m \u001b[38;5;28;01mfor\u001b[39;00m cocuk_sessiz \u001b[38;5;129;01min\u001b[39;00m baba_sessiz:\n\u001b[0;32m---> 25\u001b[0m     \u001b[38;5;28;01mif\u001b[39;00m \u001b[43mi\u001b[49m\u001b[43m \u001b[49m\u001b[38;5;129;43;01min\u001b[39;49;00m\u001b[43m \u001b[49m\u001b[38;5;28;43mset\u001b[39;49m\u001b[43m(\u001b[49m\u001b[43mcocuk_sessiz\u001b[49m\u001b[43m)\u001b[49m\u001b[38;5;241;43m.\u001b[39;49m\u001b[43missubset\u001b[49m\u001b[43m(\u001b[49m\u001b[38;5;28;43mset\u001b[39;49m\u001b[43m(\u001b[49m\u001b[43mbaba_sessiz\u001b[49m\u001b[43m)\u001b[49m\u001b[43m)\u001b[49m:\n\u001b[1;32m     26\u001b[0m         \u001b[38;5;28mprint\u001b[39m(\u001b[38;5;124m\"\u001b[39m\u001b[38;5;124mok\u001b[39m\u001b[38;5;124m\"\u001b[39m)\n\u001b[1;32m     28\u001b[0m \u001b[38;5;28;01mfor\u001b[39;00m cocuk_sessiz \u001b[38;5;129;01min\u001b[39;00m anne_sessiz:\n",
      "\u001b[0;31mTypeError\u001b[0m: argument of type 'bool' is not iterable"
     ]
    }
   ],
   "source": [
    "anne = \"merve\"\n",
    "baba = \"halil\"\n",
    "çocuk = \"veli\"\n",
    "\n",
    "sessiz = \"bcçdfgğhjklmnpqrsştvwxyz\"\n",
    "cocuk_sessiz = \"\"\n",
    "baba_sessiz = \"\"\n",
    "anne_sessiz = \"\"\n",
    "çocuk_baba = \"\"\n",
    "çocuk_anne = \"\"\n",
    "for i in sessiz:\n",
    "    if i in çocuk:\n",
    "        cocuk_sessiz += i\n",
    "\n",
    "for i in sessiz:\n",
    "    if i in baba:\n",
    "        baba_sessiz += i\n",
    "\n",
    "for i in sessiz:\n",
    "    if i in anne:\n",
    "        anne_sessiz += i\n",
    "\n",
    "\n",
    "for cocuk_sessiz in baba_sessiz:\n",
    "    if i in set(cocuk_sessiz).issubset(set(baba_sessiz)):\n",
    "        print(\"ok\")\n",
    "\n",
    "for cocuk_sessiz in anne_sessiz:\n",
    "    çocuk_anne += cocuk_sessiz\n",
    "\n"
   ]
  },
  {
   "cell_type": "code",
   "execution_count": 23,
   "metadata": {},
   "outputs": [
    {
     "data": {
      "text/plain": [
       "'hl'"
      ]
     },
     "execution_count": 23,
     "metadata": {},
     "output_type": "execute_result"
    }
   ],
   "source": [
    "çocuk_baba"
   ]
  },
  {
   "cell_type": "code",
   "execution_count": 27,
   "metadata": {},
   "outputs": [
    {
     "data": {
      "text/plain": [
       "'mrv'"
      ]
     },
     "execution_count": 27,
     "metadata": {},
     "output_type": "execute_result"
    }
   ],
   "source": [
    "çocuk_anne"
   ]
  },
  {
   "cell_type": "code",
   "execution_count": null,
   "metadata": {},
   "outputs": [],
   "source": []
  }
 ],
 "metadata": {
  "kernelspec": {
   "display_name": "Python 3",
   "language": "python",
   "name": "python3"
  },
  "language_info": {
   "codemirror_mode": {
    "name": "ipython",
    "version": 3
   },
   "file_extension": ".py",
   "mimetype": "text/x-python",
   "name": "python",
   "nbconvert_exporter": "python",
   "pygments_lexer": "ipython3",
   "version": "3.12.1"
  }
 },
 "nbformat": 4,
 "nbformat_minor": 2
}
