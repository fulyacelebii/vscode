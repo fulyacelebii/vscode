{
 "cells": [
  {
   "cell_type": "markdown",
   "metadata": {},
   "source": [
    "# for  (kolay kolay sonsuza gitmez)"
   ]
  },
  {
   "cell_type": "code",
   "execution_count": 1,
   "metadata": {},
   "outputs": [
    {
     "name": "stdout",
     "output_type": "stream",
     "text": [
      "t\n",
      "e\n",
      "c\n",
      "h\n",
      "p\n",
      "r\n",
      "o\n"
     ]
    }
   ],
   "source": [
    "for i in \"techpro\" : # for döngüsü iterablelar ile çalışır.\n",
    "    print(i)"
   ]
  },
  {
   "cell_type": "code",
   "execution_count": 3,
   "metadata": {},
   "outputs": [
    {
     "name": "stdout",
     "output_type": "stream",
     "text": [
      "t - tt\n",
      "e - ee\n",
      "c - cc\n",
      "h - hh\n",
      "p - pp\n",
      "r - rr\n",
      "o - oo\n"
     ]
    }
   ],
   "source": [
    "for i in \"techpro\" : \n",
    "    print(i, \"-\", i * 2)"
   ]
  },
  {
   "cell_type": "code",
   "execution_count": 5,
   "metadata": {},
   "outputs": [
    {
     "name": "stdout",
     "output_type": "stream",
     "text": [
      "t - tt\n",
      "e - ee\n",
      "c - cc\n",
      "h - hh\n",
      "p - pp\n",
      "r - rr\n",
      "o - oo\n"
     ]
    }
   ],
   "source": [
    "for k in \"techpro\" :  # i, k, nhiç birifarketmez.\n",
    "    print(k, \"-\", k * 2)"
   ]
  },
  {
   "cell_type": "code",
   "execution_count": 7,
   "metadata": {},
   "outputs": [
    {
     "data": {
      "text/plain": [
       "'o'"
      ]
     },
     "execution_count": 7,
     "metadata": {},
     "output_type": "execute_result"
    }
   ],
   "source": [
    "k   # k'nın son değeri o, orada kaldı. yani son değer k değişkeninde tanımlı olarak kalır."
   ]
  },
  {
   "cell_type": "code",
   "execution_count": 8,
   "metadata": {},
   "outputs": [
    {
     "name": "stdout",
     "output_type": "stream",
     "text": [
      "2\n",
      "4\n",
      "6\n",
      "8\n",
      "10\n"
     ]
    }
   ],
   "source": [
    "liste_1 = [1, 2, 3, 4, 5]    # liste elemanlarının karesini yazdır.\n",
    "\n",
    "for i in liste_1:\n",
    "    print(i * 2)"
   ]
  },
  {
   "cell_type": "code",
   "execution_count": 9,
   "metadata": {},
   "outputs": [
    {
     "data": {
      "text/plain": [
       "True"
      ]
     },
     "execution_count": 9,
     "metadata": {},
     "output_type": "execute_result"
    }
   ],
   "source": [
    "\"e\" in \"hello\"   # e, hellonun içinde var mı"
   ]
  },
  {
   "cell_type": "code",
   "execution_count": 10,
   "metadata": {},
   "outputs": [
    {
     "data": {
      "text/plain": [
       "False"
      ]
     },
     "execution_count": 10,
     "metadata": {},
     "output_type": "execute_result"
    }
   ],
   "source": [
    "\"a\" in \"hello\""
   ]
  },
  {
   "cell_type": "code",
   "execution_count": 11,
   "metadata": {},
   "outputs": [
    {
     "name": "stdout",
     "output_type": "stream",
     "text": [
      "1 sayısının karesi: 1\n",
      "2 sayısının karesi: 4\n",
      "3 sayısının karesi: 9\n",
      "4 sayısının karesi: 16\n",
      "5 sayısının karesi: 25\n"
     ]
    }
   ],
   "source": [
    "for i in (1, 2, 3, 4, 5):\n",
    "    print(f\"{i} sayısının karesi: {i ** 2}\")"
   ]
  },
  {
   "cell_type": "code",
   "execution_count": 12,
   "metadata": {},
   "outputs": [
    {
     "ename": "TypeError",
     "evalue": "'int' object is not iterable",
     "output_type": "error",
     "traceback": [
      "\u001b[0;31m---------------------------------------------------------------------------\u001b[0m",
      "\u001b[0;31mTypeError\u001b[0m                                 Traceback (most recent call last)",
      "Cell \u001b[0;32mIn[12], line 1\u001b[0m\n\u001b[0;32m----> 1\u001b[0m \u001b[38;5;28;43;01mfor\u001b[39;49;00m\u001b[43m \u001b[49m\u001b[43mi\u001b[49m\u001b[43m \u001b[49m\u001b[38;5;129;43;01min\u001b[39;49;00m\u001b[43m \u001b[49m\u001b[38;5;241;43m1543\u001b[39;49m\u001b[43m:\u001b[49m\u001b[43m   \u001b[49m\u001b[38;5;66;43;03m# integerlar iterable olmadığı için hata verir.\u001b[39;49;00m\n\u001b[1;32m      2\u001b[0m \u001b[43m    \u001b[49m\u001b[38;5;28;43mprint\u001b[39;49m\u001b[43m(\u001b[49m\u001b[43mi\u001b[49m\u001b[43m)\u001b[49m\n",
      "\u001b[0;31mTypeError\u001b[0m: 'int' object is not iterable"
     ]
    }
   ],
   "source": [
    "for i in 1543:   # integerlar iterable olmadığı için hata verir.\n",
    "    print(i)"
   ]
  },
  {
   "cell_type": "code",
   "execution_count": 13,
   "metadata": {},
   "outputs": [
    {
     "name": "stdout",
     "output_type": "stream",
     "text": [
      "1 sayısının karesi: 1---2 sayısının karesi: 4---3 sayısının karesi: 9---4 sayısının karesi: 16---5 sayısının karesi: 25---"
     ]
    }
   ],
   "source": [
    "for i in (1, 2, 3, 4, 5):\n",
    "    print(f\"{i} sayısının karesi: {i ** 2}\", end = \"---\")"
   ]
  },
  {
   "cell_type": "code",
   "execution_count": 14,
   "metadata": {},
   "outputs": [],
   "source": [
    "isimler_listesi = [\"irem\", \"cihan\", \"bahar\", \"metehan\"]"
   ]
  },
  {
   "cell_type": "code",
   "execution_count": 15,
   "metadata": {},
   "outputs": [
    {
     "name": "stdout",
     "output_type": "stream",
     "text": [
      "Irem\n",
      "Cihan\n",
      "Bahar\n",
      "Metehan\n"
     ]
    }
   ],
   "source": [
    "for i in isimler_listesi:  #baş harflerini büyütmk için string metodları kullanabiliriz.\n",
    "    print(i.capitalize())    # atama yapmıyor.geçici değişiklik."
   ]
  },
  {
   "cell_type": "code",
   "execution_count": 30,
   "metadata": {},
   "outputs": [
    {
     "name": "stdout",
     "output_type": "stream",
     "text": [
      "T-e-c-h-p-r-o-"
     ]
    }
   ],
   "source": [
    "for i in \"Techpro\":\n",
    "    print(i,  end=\"-\")   #en sondakini silemeyiz."
   ]
  },
  {
   "cell_type": "code",
   "execution_count": 38,
   "metadata": {},
   "outputs": [
    {
     "name": "stdout",
     "output_type": "stream",
     "text": [
      "T-e-c-h-p-r-o\n"
     ]
    }
   ],
   "source": [
    "empty_str = \"\"   # boş string oluştururuz.\n",
    "\n",
    "for i in \"Techpro\":\n",
    "    empty_str += i + \"-\"   # artı ile işaretiekledik.\n",
    "\n",
    "print(empty_str.rstrip(\"-\"))   # burada sondaki işareti sildik."
   ]
  },
  {
   "cell_type": "code",
   "execution_count": 40,
   "metadata": {},
   "outputs": [
    {
     "data": {
      "text/plain": [
       "{'name': 'dilek', 'age': 26, 'job': 'data_scient'}"
      ]
     },
     "execution_count": 40,
     "metadata": {},
     "output_type": "execute_result"
    }
   ],
   "source": [
    "dict_1 = {\"name\": \"dilek\", \"age\": 26, \"job\": \"data_scient\" }\n",
    "dict_1"
   ]
  },
  {
   "cell_type": "code",
   "execution_count": 41,
   "metadata": {},
   "outputs": [
    {
     "name": "stdout",
     "output_type": "stream",
     "text": [
      "name\n",
      "age\n",
      "job\n"
     ]
    }
   ],
   "source": [
    "for i in dict_1:\n",
    "    print(i)   #sadece key'lere ulaşır."
   ]
  },
  {
   "cell_type": "code",
   "execution_count": 43,
   "metadata": {},
   "outputs": [
    {
     "name": "stdout",
     "output_type": "stream",
     "text": [
      "dilek\n",
      "26\n",
      "data_scient\n"
     ]
    }
   ],
   "source": [
    "for i in dict_1.values():   # value'lar için\n",
    "    print(i)"
   ]
  },
  {
   "cell_type": "code",
   "execution_count": 45,
   "metadata": {},
   "outputs": [
    {
     "name": "stdout",
     "output_type": "stream",
     "text": [
      "('name', 'dilek')\n",
      "('age', 26)\n",
      "('job', 'data_scient')\n"
     ]
    }
   ],
   "source": [
    "for i in dict_1.items():   # ikilileri çağırmk için\n",
    "    print(i)"
   ]
  },
  {
   "cell_type": "code",
   "execution_count": 47,
   "metadata": {},
   "outputs": [
    {
     "name": "stdout",
     "output_type": "stream",
     "text": [
      "name**dilek\n",
      "age**26\n",
      "job**data_scient\n"
     ]
    }
   ],
   "source": [
    "for i, j in dict_1.items():   # i değişkenine key'ler, j değişkenine value'lar geliyor.\n",
    "    print(i, j, sep=\"**\")"
   ]
  },
  {
   "cell_type": "code",
   "execution_count": 49,
   "metadata": {},
   "outputs": [
    {
     "name": "stdout",
     "output_type": "stream",
     "text": [
      "key: name, value: dilek\n",
      "key: age, value: 26\n",
      "key: job, value: data_scient\n"
     ]
    }
   ],
   "source": [
    "for i, j in dict_1.items():   # i değişkenine key'ler, j değişkenine value'lar geliyor.\n",
    "    print(f\"key: {i}, value: {j}\")"
   ]
  },
  {
   "cell_type": "code",
   "execution_count": 50,
   "metadata": {},
   "outputs": [
    {
     "data": {
      "text/plain": [
       "{'name': 'dilek', 'surname': 'yılmaz', 'age': 26, 'job': 'data_scientist'}"
      ]
     },
     "execution_count": 50,
     "metadata": {},
     "output_type": "execute_result"
    }
   ],
   "source": [
    "dict_2 = {\"name\": \"dilek\", \"surname\": \"yılmaz\", \"age\": 26, \"job\": \"data_scientist\"}\n",
    "dict_2"
   ]
  },
  {
   "cell_type": "code",
   "execution_count": 56,
   "metadata": {},
   "outputs": [
    {
     "name": "stdout",
     "output_type": "stream",
     "text": [
      "key: name , value: dilek\n",
      "key: surname , value: yılmaz\n",
      "key: age , value: 26\n",
      "key: job , value: data_scientist\n"
     ]
    }
   ],
   "source": [
    "for i, j in dict_2.items():   # i değişkenine key'ler, j değişkenine value'lar geliyor.\n",
    "    print(f\"key: {i} , value: {j}\")"
   ]
  },
  {
   "cell_type": "code",
   "execution_count": 60,
   "metadata": {},
   "outputs": [
    {
     "name": "stdout",
     "output_type": "stream",
     "text": [
      "key: name    , value: dilek\n",
      "key: surname , value: yılmaz\n",
      "key: age     , value: 26\n",
      "key: job     , value: data_scientist\n"
     ]
    }
   ],
   "source": [
    "for i, j in dict_2.items():   \n",
    "    print(f\"key: {i:<7} , value: {j}\")   # küçüktür işareti sola yaslar. "
   ]
  },
  {
   "cell_type": "code",
   "execution_count": 65,
   "metadata": {},
   "outputs": [
    {
     "name": "stdout",
     "output_type": "stream",
     "text": [
      "key:       name , value:      dilek     \n",
      "key:    surname , value:     yılmaz     \n",
      "key:        age , value:       26       \n",
      "key:        job , value: data_scientist \n"
     ]
    }
   ],
   "source": [
    "for i, j in dict_2.items():   \n",
    "    print(f\"key: {i:>10} , value: {j:^15}\")   # kbüyüktür işareti sağa yaslar. sayıyı biz belirledik.  :^ bu ortalar"
   ]
  },
  {
   "cell_type": "code",
   "execution_count": 69,
   "metadata": {},
   "outputs": [
    {
     "ename": "TypeError",
     "evalue": "'bool' object is not iterable",
     "output_type": "error",
     "traceback": [
      "\u001b[0;31m---------------------------------------------------------------------------\u001b[0m",
      "\u001b[0;31mTypeError\u001b[0m                                 Traceback (most recent call last)",
      "Cell \u001b[0;32mIn[69], line 1\u001b[0m\n\u001b[0;32m----> 1\u001b[0m \u001b[38;5;28;43;01mfor\u001b[39;49;00m\u001b[43m \u001b[49m\u001b[43mi\u001b[49m\u001b[43m \u001b[49m\u001b[38;5;129;43;01min\u001b[39;49;00m\u001b[43m \u001b[49m\u001b[38;5;28;43;01mTrue\u001b[39;49;00m\u001b[43m:\u001b[49m\n\u001b[1;32m      2\u001b[0m \u001b[43m    \u001b[49m\u001b[38;5;28;43mprint\u001b[39;49m\u001b[43m(\u001b[49m\u001b[43mi\u001b[49m\u001b[43m)\u001b[49m\n",
      "\u001b[0;31mTypeError\u001b[0m: 'bool' object is not iterable"
     ]
    }
   ],
   "source": [
    "for i in True:  # bool iterable değildir. hata alırız.\n",
    "    print(i)\n"
   ]
  },
  {
   "cell_type": "code",
   "execution_count": null,
   "metadata": {},
   "outputs": [],
   "source": [
    "liste = [\"sonsuz döngü\"]   # bir listeyleişlem yaparken, append yapmak istersek sıfırdan bir boş liste oluşturmalıyız.\n",
    "\n",
    "for i in liste:\n",
    "    print(i)\n",
    "    liste.append(i)     #sonsuza gider."
   ]
  },
  {
   "cell_type": "code",
   "execution_count": 70,
   "metadata": {},
   "outputs": [
    {
     "data": {
      "text/plain": [
       "'      techpro       '"
      ]
     },
     "execution_count": 70,
     "metadata": {},
     "output_type": "execute_result"
    }
   ],
   "source": [
    "\"techpro\".center(20)   #str'de ortalama"
   ]
  },
  {
   "cell_type": "code",
   "execution_count": 71,
   "metadata": {},
   "outputs": [
    {
     "data": {
      "text/plain": [
       "'             techpro'"
      ]
     },
     "execution_count": 71,
     "metadata": {},
     "output_type": "execute_result"
    }
   ],
   "source": [
    "\"techpro\".rjust(20)  #sağa yaslar. sayıları biz veriyoruz. 20 karakter açar."
   ]
  },
  {
   "cell_type": "code",
   "execution_count": 72,
   "metadata": {},
   "outputs": [
    {
     "data": {
      "text/plain": [
       "'techpro             '"
      ]
     },
     "execution_count": 72,
     "metadata": {},
     "output_type": "execute_result"
    }
   ],
   "source": [
    "\"techpro\".ljust(20)  #sola yaslar"
   ]
  },
  {
   "cell_type": "code",
   "execution_count": 82,
   "metadata": {},
   "outputs": [
    {
     "name": "stdout",
     "output_type": "stream",
     "text": [
      " 1 - Hoca bize ceza verdi\n",
      " 2 - Hoca bize ceza verdi\n",
      " 3 - Hoca bize ceza verdi\n",
      " 4 - Hoca bize ceza verdi\n",
      " 5 - Hoca bize ceza verdi\n",
      " 6 - Hoca bize ceza verdi\n",
      " 7 - Hoca bize ceza verdi\n",
      " 8 - Hoca bize ceza verdi\n",
      " 9 - Hoca bize ceza verdi\n",
      " 10 - Hoca bize ceza verdi\n",
      " 11 - Hoca bize ceza verdi\n",
      " 12 - Hoca bize ceza verdi\n",
      " 13 - Hoca bize ceza verdi\n",
      " 14 - Hoca bize ceza verdi\n",
      " 15 - Hoca bize ceza verdi\n",
      " 16 - Hoca bize ceza verdi\n",
      " 17 - Hoca bize ceza verdi\n",
      " 18 - Hoca bize ceza verdi\n",
      " 19 - Hoca bize ceza verdi\n",
      " 20 - Hoca bize ceza verdi\n",
      " 21 - Hoca bize ceza verdi\n",
      " 22 - Hoca bize ceza verdi\n",
      " 23 - Hoca bize ceza verdi\n",
      " 24 - Hoca bize ceza verdi\n",
      " 25 - Hoca bize ceza verdi\n",
      " 26 - Hoca bize ceza verdi\n",
      " 27 - Hoca bize ceza verdi\n",
      " 28 - Hoca bize ceza verdi\n",
      " 29 - Hoca bize ceza verdi\n",
      " 30 - Hoca bize ceza verdi\n",
      " 31 - Hoca bize ceza verdi\n",
      " 32 - Hoca bize ceza verdi\n",
      " 33 - Hoca bize ceza verdi\n",
      " 34 - Hoca bize ceza verdi\n",
      " 35 - Hoca bize ceza verdi\n",
      " 36 - Hoca bize ceza verdi\n",
      " 37 - Hoca bize ceza verdi\n",
      " 38 - Hoca bize ceza verdi\n",
      " 39 - Hoca bize ceza verdi\n",
      " 40 - Hoca bize ceza verdi\n",
      " 41 - Hoca bize ceza verdi\n",
      " 42 - Hoca bize ceza verdi\n",
      " 43 - Hoca bize ceza verdi\n",
      " 44 - Hoca bize ceza verdi\n",
      " 45 - Hoca bize ceza verdi\n",
      " 46 - Hoca bize ceza verdi\n",
      " 47 - Hoca bize ceza verdi\n",
      " 48 - Hoca bize ceza verdi\n",
      " 49 - Hoca bize ceza verdi\n",
      " 50 - Hoca bize ceza verdi\n"
     ]
    }
   ],
   "source": [
    "# 50 tane hoca bize ceza verdi yazısı yazdır ve yanlarında sayılar olsun.\n",
    "\n",
    "for i in range(1,51):\n",
    "    print(f\"{i:< 2} - Hoca bize ceza verdi\")"
   ]
  },
  {
   "cell_type": "code",
   "execution_count": 83,
   "metadata": {},
   "outputs": [],
   "source": [
    "# Kullanıcıdan 1(dahil) ve 9(dahil) arası bir sayı isteyin. Bu sayının çarpım tablosunu oluşturun. "
   ]
  },
  {
   "cell_type": "code",
   "execution_count": 96,
   "metadata": {},
   "outputs": [
    {
     "name": "stdout",
     "output_type": "stream",
     "text": [
      " 4  x 0   = 0\n",
      " 4  x 1   = 4\n",
      " 4  x 2   = 8\n",
      " 4  x 3   = 12\n",
      " 4  x 4   = 16\n",
      " 4  x 5   = 20\n",
      " 4  x 6   = 24\n",
      " 4  x 7   = 28\n",
      " 4  x 8   = 32\n",
      " 4  x 9   = 36\n",
      " 4  x 10  = 40\n"
     ]
    }
   ],
   "source": [
    "\n",
    "sayı = int(input(\"1 ve 9 dahil olmak üzere bu aralıkta bir sayı giriniz\"))\n",
    "for i in range(0, 11):\n",
    "    print(f\"{sayı: < 3} x {i: <3} = {sayı * i}\")"
   ]
  },
  {
   "cell_type": "code",
   "execution_count": 95,
   "metadata": {},
   "outputs": [],
   "source": [
    "# Kullanıcıdan 1 ve 9 dahil bir sayı isteyin,bu sayının çarpım tablosunu oluşturun. Kullanıcı bu aralıktan farklı bir değer girdiyse tekrar doğru değeri girmesini isteyin. + while var bu soruda."
   ]
  },
  {
   "cell_type": "code",
   "execution_count": 8,
   "metadata": {},
   "outputs": [
    {
     "name": "stdout",
     "output_type": "stream",
     "text": [
      "Girdiğiniz değer istenilen aralıkta değildir. 1 ve 9 arasında bir sayı giriniz.\n",
      "Girdiğiniz değer istenilen aralıkta değildir. 1 ve 9 arasında bir sayı giriniz.\n",
      "Girdiğiniz değer istenilen aralıkta değildir. 1 ve 9 arasında bir sayı giriniz.\n",
      "3 kere yanlış giriş yaptığınız için 10 saniye bekleyin\n",
      "10 saniye beklediğiniz için teşekkürler ancak size yeni bir hak vermeyi bilmiyorum. \n",
      "Öylesine beklettim yani tamamen. Kusura bakmayın artık :)\n"
     ]
    }
   ],
   "source": [
    "import time\n",
    "y = True\n",
    "sayac = 0\n",
    "\n",
    "while y:\n",
    "    sayı = int(input(\"1 ve 9 dahil olmak üzere bu aralıkta bir sayı giriniz. 3'ten fazla yanlış giriş yapamazsınız.\"))\n",
    "    if 1 <= sayı <= 9:\n",
    "        for i in range(0, 11):\n",
    "            print(f\"{sayı: < 3} x {i: <3} = {sayı * i}\")\n",
    "        break\n",
    "    else:\n",
    "        print(\"Girdiğiniz değer istenilen aralıkta değildir. 1 ve 9 arasında bir sayı giriniz.\")\n",
    "        sayac += 1\n",
    "    if sayac == 3:\n",
    "        print(\"3 kere yanlış giriş yaptığınız için 10 saniye bekleyin\")\n",
    "        time.sleep(10)\n",
    "        print(\"\"\"10 saniye beklediğiniz için teşekkürler ancak size yeni bir hak vermeyi bilmiyorum. \n",
    "Öylesine beklettim yani tamamen. Kusura bakmayın artık :)\"\"\")\n",
    "        y = False\n"
   ]
  },
  {
   "cell_type": "code",
   "execution_count": null,
   "metadata": {},
   "outputs": [],
   "source": [
    "while True:    # hocanın yaptığı.\n",
    "\n",
    "    number = int(input(\"bir sayı girin.1 ve 9 arasında\"))\n",
    "\n",
    "    if 1 <= number <= 9:\n",
    "\n",
    "        for i in range(1,11):\n",
    "\n",
    "            print(f\"{number} x {i:<2} = {number * i}\")\n",
    "\n",
    "        break\n",
    "\n",
    "    else:\n",
    "        print(\"girdiğiniz sayı 1 ile 9 arasında değil. Tekrar sayı girin.\")"
   ]
  },
  {
   "cell_type": "code",
   "execution_count": null,
   "metadata": {},
   "outputs": [],
   "source": [
    "#ödev 2 çözüm 2\n",
    "while True:\n",
    "\n",
    "    number = int(input(\"bir sayı girin.1 ve 9 arasında\"))\n",
    "\n",
    "    if 1 <= number <= 9:\n",
    "\n",
    "        break\n",
    "\n",
    "    else:\n",
    "        print(\"girdiğiniz sayı 1 ile 9 arasında değil. Tekrar sayı girin.\")\n",
    "\n",
    "for i in range(1,11):\n",
    "\n",
    "    print(f\"{number} x {i:<2} = {number * i}\")"
   ]
  },
  {
   "cell_type": "code",
   "execution_count": null,
   "metadata": {},
   "outputs": [],
   "source": [
    "#ödev 2 çözüm 3 deneme hakkı = 3\n",
    "\n",
    "sayaç = 0\n",
    "\n",
    "while True:\n",
    "\n",
    "    number = int(input(\"bir sayı girin.1 ve 9 arasında\"))\n",
    "\n",
    "    sayaç += 1\n",
    "\n",
    "    if 1 <= number <= 9:\n",
    "\n",
    "        for i in [1,2,3,4,5,6,7,8,9,10]:\n",
    "\n",
    "            print(f\"{number} x {i:<2} = {number * i}\")\n",
    "\n",
    "        break\n",
    "\n",
    "    else:\n",
    "        print(\"girdiğiniz sayı 1 ile 9 arasında değil. Tekrar sayı girin.\")\n",
    "\n",
    "    if sayaç == 3:\n",
    "        break"
   ]
  }
 ],
 "metadata": {
  "kernelspec": {
   "display_name": "Python 3",
   "language": "python",
   "name": "python3"
  },
  "language_info": {
   "codemirror_mode": {
    "name": "ipython",
    "version": 3
   },
   "file_extension": ".py",
   "mimetype": "text/x-python",
   "name": "python",
   "nbconvert_exporter": "python",
   "pygments_lexer": "ipython3",
   "version": "3.12.1"
  }
 },
 "nbformat": 4,
 "nbformat_minor": 2
}
