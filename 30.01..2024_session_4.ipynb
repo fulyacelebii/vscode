{
 "cells": [
  {
   "cell_type": "markdown",
   "metadata": {},
   "source": [
    "# print() function"
   ]
  },
  {
   "cell_type": "code",
   "execution_count": 2,
   "metadata": {},
   "outputs": [
    {
     "name": "stdout",
     "output_type": "stream",
     "text": [
      "Techpro\n"
     ]
    }
   ],
   "source": [
    "print (\"Techpro\")"
   ]
  },
  {
   "cell_type": "code",
   "execution_count": 15,
   "metadata": {},
   "outputs": [
    {
     "name": "stdout",
     "output_type": "stream",
     "text": [
      "Mikail   Serhan   Mustafa\n"
     ]
    }
   ],
   "source": [
    "print(\"Mikail\", \"Serhan\", \"Mustafa\", sep=\"   \") #seple değişkenlerin arasına 3 boşluk koyduk"
   ]
  },
  {
   "cell_type": "code",
   "execution_count": 17,
   "metadata": {},
   "outputs": [
    {
     "name": "stdout",
     "output_type": "stream",
     "text": [
      "Mikail 😀 Serhan 😀 Mustafa\n"
     ]
    }
   ],
   "source": [
    "print(\"Mikail\", \"Serhan\", \"Mustafa\", sep=\" \\U0001F600 \")"
   ]
  },
  {
   "cell_type": "code",
   "execution_count": 21,
   "metadata": {},
   "outputs": [
    {
     "name": "stdout",
     "output_type": "stream",
     "text": [
      "Help on built-in function print in module builtins:\n",
      "\n",
      "print(*args, sep=' ', end='\\n', file=None, flush=False)\n",
      "    Prints the values to a stream, or to sys.stdout by default.\n",
      "\n",
      "    sep\n",
      "      string inserted between values, default a space.\n",
      "    end\n",
      "      string appended after the last value, default a newline.\n",
      "    file\n",
      "      a file-like object (stream); defaults to the current sys.stdout.\n",
      "    flush\n",
      "      whether to forcibly flush the stream.\n",
      "\n"
     ]
    }
   ],
   "source": [
    "help(print)"
   ]
  },
  {
   "cell_type": "code",
   "execution_count": 27,
   "metadata": {},
   "outputs": [
    {
     "name": "stdout",
     "output_type": "stream",
     "text": [
      "Fulya**Umut\n",
      "Ulaş\n"
     ]
    }
   ],
   "source": [
    "print(\"Fulya\", end=\"**\") #Yazdırılmak istenen ifadelerin sonuna hangi karakterin geleceğini belirler.\n",
    "print(\"Umut\")\n",
    "print(\"Ulaş\")"
   ]
  },
  {
   "cell_type": "code",
   "execution_count": 30,
   "metadata": {},
   "outputs": [
    {
     "name": "stdout",
     "output_type": "stream",
     "text": [
      "Büşra <3 Selin\n"
     ]
    }
   ],
   "source": [
    "print(\"Büşra\", end=\" <3 \") #end n'li olay alt satıra geçiriyor. onu değiştirdiğimiz için yanyana yazdı.\n",
    "print(\"Selin\")"
   ]
  },
  {
   "cell_type": "code",
   "execution_count": 32,
   "metadata": {},
   "outputs": [
    {
     "name": "stdout",
     "output_type": "stream",
     "text": [
      "Fulya!Umut*Ulaş--Büşra\n"
     ]
    }
   ],
   "source": [
    "print(\"Fulya\", end=\"!\") \n",
    "print(\"Umut\", end=\"*\")\n",
    "print(\"Ulaş\", \"Büşra\", sep=\"--\")"
   ]
  },
  {
   "cell_type": "code",
   "execution_count": 34,
   "metadata": {},
   "outputs": [
    {
     "name": "stdout",
     "output_type": "stream",
     "text": [
      "Domates\n",
      "Biber\n",
      "Patlıcan\n"
     ]
    }
   ],
   "source": [
    "print(\"Domates\", \"Biber\", \"Patlıcan\", sep=\"\\n\") #sep=\\n ile alt alta yazdırdık."
   ]
  },
  {
   "cell_type": "code",
   "execution_count": 35,
   "metadata": {},
   "outputs": [
    {
     "name": "stdout",
     "output_type": "stream",
     "text": [
      "hello world--35**40**75\n",
      "son satır\n"
     ]
    }
   ],
   "source": [
    "print(\"hello world\", end= \"--\")\n",
    "print(\"35\", 40, \"75\", sep= \"**\")\n",
    "print(\"son satır\")"
   ]
  },
  {
   "cell_type": "markdown",
   "metadata": {},
   "source": [
    "# input()"
   ]
  },
  {
   "cell_type": "markdown",
   "metadata": {},
   "source": [
    "### input ile aldığımız verilerin hepsi stringtir."
   ]
  },
  {
   "cell_type": "code",
   "execution_count": 41,
   "metadata": {},
   "outputs": [
    {
     "data": {
      "text/plain": [
       "'28'"
      ]
     },
     "execution_count": 41,
     "metadata": {},
     "output_type": "execute_result"
    }
   ],
   "source": [
    "input(\"Lütfen yaşınızı girin\") #dışardan yaş toplayabiliriz"
   ]
  },
  {
   "cell_type": "code",
   "execution_count": 37,
   "metadata": {},
   "outputs": [
    {
     "data": {
      "text/plain": [
       "28"
      ]
     },
     "execution_count": 37,
     "metadata": {},
     "output_type": "execute_result"
    }
   ],
   "source": [
    "int(input())"
   ]
  },
  {
   "cell_type": "code",
   "execution_count": 38,
   "metadata": {},
   "outputs": [],
   "source": [
    "age = input(\"Lütfen yaşınızı giriniz\")"
   ]
  },
  {
   "cell_type": "code",
   "execution_count": 43,
   "metadata": {},
   "outputs": [],
   "source": [
    "age_1 = int(input(\"Lütfen yaşınızı giriniz\")) #int olarak giriş yaptık, en başından yani. ama biri gelir yazıyla giriş yaparsa sıçarsın :) string'den devam et."
   ]
  },
  {
   "cell_type": "code",
   "execution_count": 40,
   "metadata": {},
   "outputs": [
    {
     "data": {
      "text/plain": [
       "int"
      ]
     },
     "execution_count": 40,
     "metadata": {},
     "output_type": "execute_result"
    }
   ],
   "source": [
    "type(age_1)"
   ]
  },
  {
   "cell_type": "code",
   "execution_count": 48,
   "metadata": {},
   "outputs": [
    {
     "data": {
      "text/plain": [
       "1996"
      ]
     },
     "execution_count": 48,
     "metadata": {},
     "output_type": "execute_result"
    }
   ],
   "source": [
    "age_3 = input(\"Lütfen yaşınızı girin\")\n",
    "age_3 = int(age_3)\n",
    "2024 - age_3"
   ]
  },
  {
   "cell_type": "code",
   "execution_count": 55,
   "metadata": {},
   "outputs": [
    {
     "name": "stdout",
     "output_type": "stream",
     "text": [
      "23.233456176894723\n"
     ]
    }
   ],
   "source": [
    "kilo = input(\"Kilonuzu kg cinsinden giriniz\")\n",
    "boy = input(\"Boyunuzu m cinsinden giriniz\") #metre cinsinden giremeyenler olabilir. aşağıda bunun için başka kod yazdık.\n",
    "kilo = float(kilo)\n",
    "boy = float(boy)\n",
    "vki = kilo / boy**2\n",
    "print(vki)"
   ]
  },
  {
   "cell_type": "code",
   "execution_count": 56,
   "metadata": {},
   "outputs": [
    {
     "name": "stdout",
     "output_type": "stream",
     "text": [
      "23.233456176894723\n"
     ]
    }
   ],
   "source": [
    "kilo = input(\"Kilonuzu kg cinsinden giriniz\")\n",
    "boy = input(\"Boyunuzu cm cinsinden giriniz\") #cm cinsinden aldık noktalı bir ifadeye gerek kalmadı.\n",
    "kilo = int(kilo)\n",
    "boy = int(boy)\n",
    "vki = kilo / (boy/100)**2  #Boyu 100'e böldük buraya dikkatini çekerim F.Ç\n",
    "print(vki)"
   ]
  },
  {
   "cell_type": "markdown",
   "metadata": {},
   "source": [
    "# Escape Sequence (Kaçış Parametresi)"
   ]
  },
  {
   "cell_type": "code",
   "execution_count": null,
   "metadata": {},
   "outputs": [],
   "source": [
    "print('I'm python teacher) #hata alır. tırnaklara dikkat et guzum."
   ]
  },
  {
   "cell_type": "code",
   "execution_count": 58,
   "metadata": {},
   "outputs": [
    {
     "name": "stdout",
     "output_type": "stream",
     "text": [
      "I'm python teacher\n"
     ]
    }
   ],
   "source": [
    "print('I\\'m python teacher') #şimdi çalışır I\\'m diyerek. "
   ]
  },
  {
   "cell_type": "code",
   "execution_count": 62,
   "metadata": {},
   "outputs": [
    {
     "name": "stdout",
     "output_type": "stream",
     "text": [
      "Bu ders çok uzadı sanki. \n",
      "Bi an önce bitsemi acaba?\n"
     ]
    }
   ],
   "source": [
    "print(\"Bu ders çok uzadı sanki. \\nBi an önce bitsemi acaba?\") #aşşaa geçti yazı \\n ile"
   ]
  },
  {
   "cell_type": "code",
   "execution_count": 63,
   "metadata": {},
   "outputs": [
    {
     "name": "stdout",
     "output_type": "stream",
     "text": [
      "Fuad\n",
      "Memed\n",
      "Umuç\n"
     ]
    }
   ],
   "source": [
    "print(\"Fuad\", \"Memed\", \"Umuç\", sep = \"\\n\") # \\n entera basmak anlamına gelir"
   ]
  },
  {
   "cell_type": "code",
   "execution_count": 64,
   "metadata": {},
   "outputs": [
    {
     "name": "stdout",
     "output_type": "stream",
     "text": [
      "Fuad\tMemed\tUmuç\n"
     ]
    }
   ],
   "source": [
    "print(\"Fuad\", \"Memed\", \"Umuç\", sep = \"\\t\") # \\t taba basmak anlamına gelir."
   ]
  },
  {
   "cell_type": "code",
   "execution_count": 65,
   "metadata": {},
   "outputs": [
    {
     "name": "stdout",
     "output_type": "stream",
     "text": [
      "Bu ders çok uzadı sankiBi an önce bitsemi acaba?\n"
     ]
    }
   ],
   "source": [
    "print(\"Bu ders çok uzadı sanki.\\bBi an önce bitsemi acaba?\") # \\b bir karakter sildi. backspace tuşuna basmak anlamına gelir."
   ]
  },
  {
   "cell_type": "code",
   "execution_count": 67,
   "metadata": {},
   "outputs": [
    {
     "name": "stdout",
     "output_type": "stream",
     "text": [
      "FuaMemeUmuç\n"
     ]
    }
   ],
   "source": [
    "print(\"Fuad\", \"Memed\", \"Umuç\", sep = \"\\b\") # kelimelerin arasında işlem yaptığı için son ismin son harfini silmez."
   ]
  },
  {
   "cell_type": "code",
   "execution_count": 68,
   "metadata": {},
   "outputs": [
    {
     "name": "stdout",
     "output_type": "stream",
     "text": [
      "Bizde geri \n",
      "vites olmaz \n"
     ]
    }
   ],
   "source": [
    "print(\"Bizde geri \\nvites olmaz \")"
   ]
  },
  {
   "cell_type": "code",
   "execution_count": 69,
   "metadata": {},
   "outputs": [
    {
     "name": "stdout",
     "output_type": "stream",
     "text": [
      "Bizde geri \\nvites olmaz \n"
     ]
    }
   ],
   "source": [
    "print(r\"Bizde geri \\nvites olmaz \") # r sayesinde içerideki değişimler engellendi. \\n bir işe yaramadı."
   ]
  },
  {
   "cell_type": "markdown",
   "metadata": {},
   "source": [
    "## Kullanıcıdan Celcius bilgisini alın ve onu Fahrenheita çevirin."
   ]
  },
  {
   "cell_type": "code",
   "execution_count": 2,
   "metadata": {},
   "outputs": [
    {
     "name": "stdout",
     "output_type": "stream",
     "text": [
      "Hava sıcaklığı 46.0 derece 114.8 fahrenheit eder\n"
     ]
    }
   ],
   "source": [
    "C = float(input(\"Celsius bilgisini giriniz\")) \n",
    "F = (C * 1.8) + 32\n",
    "print(\"Hava sıcaklığı\", C, \"derece\", F, \"fahrenheit eder\")"
   ]
  },
  {
   "cell_type": "code",
   "execution_count": null,
   "metadata": {},
   "outputs": [],
   "source": []
  }
 ],
 "metadata": {
  "kernelspec": {
   "display_name": "Python 3",
   "language": "python",
   "name": "python3"
  },
  "language_info": {
   "codemirror_mode": {
    "name": "ipython",
    "version": 3
   },
   "file_extension": ".py",
   "mimetype": "text/x-python",
   "name": "python",
   "nbconvert_exporter": "python",
   "pygments_lexer": "ipython3",
   "version": "3.12.1"
  }
 },
 "nbformat": 4,
 "nbformat_minor": 2
}
