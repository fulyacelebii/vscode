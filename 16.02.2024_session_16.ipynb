{
 "cells": [
  {
   "cell_type": "code",
   "execution_count": 16,
   "metadata": {},
   "outputs": [
    {
     "name": "stdout",
     "output_type": "stream",
     "text": [
      "1275\n"
     ]
    }
   ],
   "source": [
    "toplam = 0\n",
    "for i in range(1, 51):\n",
    "    toplam += i\n",
    "print(toplam)"
   ]
  },
  {
   "cell_type": "code",
   "execution_count": 18,
   "metadata": {},
   "outputs": [
    {
     "data": {
      "text/plain": [
       "1275"
      ]
     },
     "execution_count": 18,
     "metadata": {},
     "output_type": "execute_result"
    }
   ],
   "source": [
    "sum(range(1, 51))   # içindekileri toplar"
   ]
  },
  {
   "cell_type": "code",
   "execution_count": 19,
   "metadata": {},
   "outputs": [
    {
     "data": {
      "text/plain": [
       "15"
      ]
     },
     "execution_count": 19,
     "metadata": {},
     "output_type": "execute_result"
    }
   ],
   "source": [
    "sum([1,2,3,4,5])"
   ]
  },
  {
   "cell_type": "code",
   "execution_count": 20,
   "metadata": {},
   "outputs": [
    {
     "data": {
      "text/plain": [
       "15"
      ]
     },
     "execution_count": 20,
     "metadata": {},
     "output_type": "execute_result"
    }
   ],
   "source": [
    "sum({1,2,3,4,5})"
   ]
  },
  {
   "cell_type": "code",
   "execution_count": 21,
   "metadata": {},
   "outputs": [
    {
     "ename": "TypeError",
     "evalue": "unsupported operand type(s) for +: 'int' and 'str'",
     "output_type": "error",
     "traceback": [
      "\u001b[0;31m---------------------------------------------------------------------------\u001b[0m",
      "\u001b[0;31mTypeError\u001b[0m                                 Traceback (most recent call last)",
      "Cell \u001b[0;32mIn[21], line 1\u001b[0m\n\u001b[0;32m----> 1\u001b[0m \u001b[38;5;28;43msum\u001b[39;49m\u001b[43m(\u001b[49m\u001b[43m[\u001b[49m\u001b[38;5;124;43m\"\u001b[39;49m\u001b[38;5;124;43ma\u001b[39;49m\u001b[38;5;124;43m\"\u001b[39;49m\u001b[43m,\u001b[49m\u001b[43m \u001b[49m\u001b[38;5;124;43m\"\u001b[39;49m\u001b[38;5;124;43mb\u001b[39;49m\u001b[38;5;124;43m\"\u001b[39;49m\u001b[43m]\u001b[49m\u001b[43m)\u001b[49m  \u001b[38;5;66;03m# str toplamaz\u001b[39;00m\n",
      "\u001b[0;31mTypeError\u001b[0m: unsupported operand type(s) for +: 'int' and 'str'"
     ]
    }
   ],
   "source": [
    "sum([\"a\", \"b\"])  # numerikle ve bool ileçalışır"
   ]
  },
  {
   "cell_type": "code",
   "execution_count": 22,
   "metadata": {},
   "outputs": [
    {
     "data": {
      "text/plain": [
       "15.0"
      ]
     },
     "execution_count": 22,
     "metadata": {},
     "output_type": "execute_result"
    }
   ],
   "source": [
    "sum([True, 2, 3.0, 4, 5])"
   ]
  },
  {
   "cell_type": "code",
   "execution_count": 23,
   "metadata": {},
   "outputs": [
    {
     "data": {
      "text/plain": [
       "115.0"
      ]
     },
     "execution_count": 23,
     "metadata": {},
     "output_type": "execute_result"
    }
   ],
   "source": [
    "sum([True, 2, 3.0, 4, 5], 100)   #100'ün üzerine toplar"
   ]
  },
  {
   "cell_type": "code",
   "execution_count": 32,
   "metadata": {},
   "outputs": [
    {
     "data": {
      "text/plain": [
       "650"
      ]
     },
     "execution_count": 32,
     "metadata": {},
     "output_type": "execute_result"
    }
   ],
   "source": [
    "sum(range(0,51, 2))  #çift sayıları topladı. bu birinci yöntem"
   ]
  },
  {
   "cell_type": "code",
   "execution_count": 33,
   "metadata": {},
   "outputs": [
    {
     "name": "stdout",
     "output_type": "stream",
     "text": [
      "650\n"
     ]
    }
   ],
   "source": [
    "toplam = 0\n",
    "for i in range(1,51):\n",
    "    if i % 2 == 0:\n",
    "        toplam += i\n",
    "print(toplam)\n"
   ]
  },
  {
   "cell_type": "markdown",
   "metadata": {},
   "source": [
    "# break, continue"
   ]
  },
  {
   "cell_type": "code",
   "execution_count": 37,
   "metadata": {},
   "outputs": [
    {
     "data": {
      "text/plain": [
       "[1, 2, 3, 4, 5]"
      ]
     },
     "execution_count": 37,
     "metadata": {},
     "output_type": "execute_result"
    }
   ],
   "source": [
    "liste_1 = [1, 2, 3, 4, 5]\n",
    "liste_1"
   ]
  },
  {
   "cell_type": "code",
   "execution_count": 41,
   "metadata": {},
   "outputs": [
    {
     "name": "stdout",
     "output_type": "stream",
     "text": [
      "1\n",
      "4\n"
     ]
    }
   ],
   "source": [
    "# 3' ve 3 ün karesini görene kadar sayıların karesini yazdırın.\n",
    "\n",
    "for i in liste_1:\n",
    "    if i % 3 == 0:\n",
    "        break\n",
    "    else:\n",
    "        print(i ** 2)"
   ]
  },
  {
   "cell_type": "code",
   "execution_count": 42,
   "metadata": {},
   "outputs": [
    {
     "name": "stdout",
     "output_type": "stream",
     "text": [
      "1\n",
      "4\n",
      "16\n",
      "25\n"
     ]
    }
   ],
   "source": [
    "# 3 ve 3 ün katı olan sayıya denk geldiğinde kod devam etsin ancak işlem yapmasın. diğer durumda sayıların karesini yazdırın\n",
    "\n",
    "for i in liste_1:\n",
    "    if i % 3 == 0:\n",
    "        continue\n",
    "    else:\n",
    "        print(i ** 2)"
   ]
  },
  {
   "cell_type": "code",
   "execution_count": 45,
   "metadata": {},
   "outputs": [
    {
     "name": "stdout",
     "output_type": "stream",
     "text": [
      "650\n"
     ]
    }
   ],
   "source": [
    "# çift sayıların toplamı. 1 ve 50 arası  (4. yöntem)\n",
    "\n",
    "toplam = 0\n",
    "\n",
    "for i in range(1,51):\n",
    "    if i % 2 == 1:\n",
    "        continue\n",
    "    else:\n",
    "        toplam += i\n",
    "print(toplam)"
   ]
  },
  {
   "cell_type": "markdown",
   "metadata": {},
   "source": [
    "# zip()"
   ]
  },
  {
   "cell_type": "code",
   "execution_count": 47,
   "metadata": {},
   "outputs": [],
   "source": [
    "a = [\"apple\", \"orange\", \"lemon\"]\n",
    "b = [1, 2, 3]"
   ]
  },
  {
   "cell_type": "code",
   "execution_count": 48,
   "metadata": {},
   "outputs": [
    {
     "data": {
      "text/plain": [
       "<zip at 0x108f2f8c0>"
      ]
     },
     "execution_count": 48,
     "metadata": {},
     "output_type": "execute_result"
    }
   ],
   "source": [
    "zip(a,b)  #liste gibi fonksiyona ihtiyaç duyar.  alttaki yazı, rem bellekteki yerini gösterir."
   ]
  },
  {
   "cell_type": "code",
   "execution_count": 49,
   "metadata": {},
   "outputs": [
    {
     "data": {
      "text/plain": [
       "[('apple', 1), ('orange', 2), ('lemon', 3)]"
      ]
     },
     "execution_count": 49,
     "metadata": {},
     "output_type": "execute_result"
    }
   ],
   "source": [
    "list(zip(a, b))   # sırayla birbirleriyle eşleştirdi."
   ]
  },
  {
   "cell_type": "code",
   "execution_count": 52,
   "metadata": {},
   "outputs": [
    {
     "data": {
      "text/plain": [
       "[(1, 'apple'), (2, 'orange'), (3, 'lemon')]"
      ]
     },
     "execution_count": 52,
     "metadata": {},
     "output_type": "execute_result"
    }
   ],
   "source": [
    "list(zip(b,a))   # tersini yazarsak elemanların yerini değiştirir."
   ]
  },
  {
   "cell_type": "code",
   "execution_count": 50,
   "metadata": {},
   "outputs": [],
   "source": [
    "x = \"Techpro\"\n",
    "y = \"Cihan\"\n",
    "z = \"Ayşe\""
   ]
  },
  {
   "cell_type": "code",
   "execution_count": 51,
   "metadata": {},
   "outputs": [
    {
     "data": {
      "text/plain": [
       "[('T', 'C', 'A'), ('e', 'i', 'y'), ('c', 'h', 'ş'), ('h', 'a', 'e')]"
      ]
     },
     "execution_count": 51,
     "metadata": {},
     "output_type": "execute_result"
    }
   ],
   "source": [
    "list(zip(x, y, z))  # len'i en küçük olan hangisiyse onunla başlayarak birleştirir.  eleman sayısı en küçük olana göre yaptığı için uzun isimlerin sonlardaki harflerini alamaz."
   ]
  },
  {
   "cell_type": "code",
   "execution_count": 53,
   "metadata": {},
   "outputs": [
    {
     "data": {
      "text/plain": [
       "{'apple': 1, 'orange': 2, 'lemon': 3}"
      ]
     },
     "execution_count": 53,
     "metadata": {},
     "output_type": "execute_result"
    }
   ],
   "source": [
    "dict(zip(a, b))   #dict olarak da kullanılabilir. key ve value olarak atar."
   ]
  },
  {
   "cell_type": "code",
   "execution_count": 54,
   "metadata": {},
   "outputs": [
    {
     "data": {
      "text/plain": [
       "{1: 'apple', 2: 'orange', 3: 'lemon'}"
      ]
     },
     "execution_count": 54,
     "metadata": {},
     "output_type": "execute_result"
    }
   ],
   "source": [
    "dict(zip(b, a))"
   ]
  },
  {
   "cell_type": "code",
   "execution_count": 55,
   "metadata": {},
   "outputs": [],
   "source": [
    "meyveler = [\"apple\", \"orange\", \"apple\"]\n",
    "adet = [1, 2, 3]"
   ]
  },
  {
   "cell_type": "code",
   "execution_count": 56,
   "metadata": {},
   "outputs": [
    {
     "data": {
      "text/plain": [
       "{'apple': 3, 'orange': 2}"
      ]
     },
     "execution_count": 56,
     "metadata": {},
     "output_type": "execute_result"
    }
   ],
   "source": [
    "dict(zip(meyveler, adet)) # birden fazla aynı key olduğunda en sondakini işleme alır."
   ]
  },
  {
   "cell_type": "code",
   "execution_count": 57,
   "metadata": {},
   "outputs": [],
   "source": [
    "name = [\"irem\", \"betül\", \"Tülay\"]\n",
    "age = [25, 26, 27]\n",
    "job = [\"data_scientist\", \"python_developer\", \"data_analyst\"]"
   ]
  },
  {
   "cell_type": "code",
   "execution_count": 58,
   "metadata": {},
   "outputs": [
    {
     "data": {
      "text/plain": [
       "[('irem', 25, 'data_scientist'),\n",
       " ('betül', 26, 'python_developer'),\n",
       " ('Tülay', 27, 'data_analyst')]"
      ]
     },
     "execution_count": 58,
     "metadata": {},
     "output_type": "execute_result"
    }
   ],
   "source": [
    "list(zip(name, age, job))  # zip iterable ile çalışır ve sonucu da iterabledir."
   ]
  },
  {
   "cell_type": "code",
   "execution_count": 59,
   "metadata": {},
   "outputs": [
    {
     "name": "stdout",
     "output_type": "stream",
     "text": [
      "('irem', 25, 'data_scientist')\n",
      "('betül', 26, 'python_developer')\n",
      "('Tülay', 27, 'data_analyst')\n"
     ]
    }
   ],
   "source": [
    "for item in zip(name, age, job):   # list olmadan da kullanılabilir zip iterabledir.  tuple oldu sonuç\n",
    "    print(item)"
   ]
  },
  {
   "cell_type": "code",
   "execution_count": 63,
   "metadata": {},
   "outputs": [
    {
     "name": "stdout",
     "output_type": "stream",
     "text": [
      "name: irem  , age: 25, job: data_scientist\n",
      "name: betül , age: 26, job: python_developer\n",
      "name: Tülay , age: 27, job: data_analyst\n"
     ]
    }
   ],
   "source": [
    "for i, j, k in zip(name, age, job):   #\n",
    "    print(f\"name: {i:<6}, age: {j}, job: {k}\")"
   ]
  },
  {
   "cell_type": "code",
   "execution_count": 64,
   "metadata": {},
   "outputs": [
    {
     "ename": "ValueError",
     "evalue": "too many values to unpack (expected 2)",
     "output_type": "error",
     "traceback": [
      "\u001b[0;31m---------------------------------------------------------------------------\u001b[0m",
      "\u001b[0;31mValueError\u001b[0m                                Traceback (most recent call last)",
      "Cell \u001b[0;32mIn[64], line 1\u001b[0m\n\u001b[0;32m----> 1\u001b[0m \u001b[38;5;28;01mfor\u001b[39;00m i, j,  \u001b[38;5;129;01min\u001b[39;00m \u001b[38;5;28mzip\u001b[39m(name, age, job):   \u001b[38;5;66;03m#\u001b[39;00m\n\u001b[1;32m      2\u001b[0m     \u001b[38;5;28mprint\u001b[39m(\u001b[38;5;124mf\u001b[39m\u001b[38;5;124m\"\u001b[39m\u001b[38;5;124mname: \u001b[39m\u001b[38;5;132;01m{\u001b[39;00mi\u001b[38;5;132;01m:\u001b[39;00m\u001b[38;5;124m<6\u001b[39m\u001b[38;5;132;01m}\u001b[39;00m\u001b[38;5;124m, age: \u001b[39m\u001b[38;5;132;01m{\u001b[39;00mj\u001b[38;5;132;01m}\u001b[39;00m\u001b[38;5;124m\"\u001b[39m)\n",
      "\u001b[0;31mValueError\u001b[0m: too many values to unpack (expected 2)"
     ]
    }
   ],
   "source": [
    "for i, j,  in zip(name, age, job):   # 3 tane girip, 2 tane tanımlarsak hata alırız.\n",
    "    print(f\"name: {i:<6}, age: {j}\")"
   ]
  },
  {
   "cell_type": "code",
   "execution_count": 65,
   "metadata": {},
   "outputs": [
    {
     "name": "stdout",
     "output_type": "stream",
     "text": [
      "değişkene ihtiyaç yok 10 kere döndürür.i'yi kullanmak zorunda değiliz\n",
      "değişkene ihtiyaç yok 10 kere döndürür.i'yi kullanmak zorunda değiliz\n",
      "değişkene ihtiyaç yok 10 kere döndürür.i'yi kullanmak zorunda değiliz\n",
      "değişkene ihtiyaç yok 10 kere döndürür.i'yi kullanmak zorunda değiliz\n",
      "değişkene ihtiyaç yok 10 kere döndürür.i'yi kullanmak zorunda değiliz\n",
      "değişkene ihtiyaç yok 10 kere döndürür.i'yi kullanmak zorunda değiliz\n",
      "değişkene ihtiyaç yok 10 kere döndürür.i'yi kullanmak zorunda değiliz\n",
      "değişkene ihtiyaç yok 10 kere döndürür.i'yi kullanmak zorunda değiliz\n",
      "değişkene ihtiyaç yok 10 kere döndürür.i'yi kullanmak zorunda değiliz\n",
      "değişkene ihtiyaç yok 10 kere döndürür.i'yi kullanmak zorunda değiliz\n"
     ]
    }
   ],
   "source": [
    "for i in range(1, 11):\n",
    "    print(\"değişkene ihtiyaç yok 10 kere döndürür.i'yi kullanmak zorunda değiliz\")"
   ]
  },
  {
   "cell_type": "code",
   "execution_count": 66,
   "metadata": {},
   "outputs": [],
   "source": [
    "## enumerate()    gömülü bir fonksiyon, numaralandırma yapar."
   ]
  },
  {
   "cell_type": "code",
   "execution_count": 67,
   "metadata": {},
   "outputs": [
    {
     "data": {
      "text/plain": [
       "['irem', 'betül', 'Tülay']"
      ]
     },
     "execution_count": 67,
     "metadata": {},
     "output_type": "execute_result"
    }
   ],
   "source": [
    "name"
   ]
  },
  {
   "cell_type": "code",
   "execution_count": 68,
   "metadata": {},
   "outputs": [
    {
     "data": {
      "text/plain": [
       "<enumerate at 0x108e8f010>"
      ]
     },
     "execution_count": 68,
     "metadata": {},
     "output_type": "execute_result"
    }
   ],
   "source": [
    "enumerate(name)  #liste kullanmalısın göremek için"
   ]
  },
  {
   "cell_type": "code",
   "execution_count": 70,
   "metadata": {},
   "outputs": [
    {
     "data": {
      "text/plain": [
       "[(0, 'irem'), (1, 'betül'), (2, 'Tülay')]"
      ]
     },
     "execution_count": 70,
     "metadata": {},
     "output_type": "execute_result"
    }
   ],
   "source": [
    "list(enumerate(name))  # listenin elemanlarına numara verdik."
   ]
  },
  {
   "cell_type": "code",
   "execution_count": 72,
   "metadata": {},
   "outputs": [
    {
     "data": {
      "text/plain": [
       "[(100, 'irem'), (101, 'betül'), (102, 'Tülay')]"
      ]
     },
     "execution_count": 72,
     "metadata": {},
     "output_type": "execute_result"
    }
   ],
   "source": [
    "list(enumerate(name, 100))  # 100'den başlar bu şekilde. başlangıç sayısını bu şekilde verebilirsin."
   ]
  },
  {
   "cell_type": "code",
   "execution_count": 89,
   "metadata": {},
   "outputs": [],
   "source": [
    "number_list = [48, 10, 11, 21, 36, 5, 6, 52, 28, 29,53, 54, 45, 19, 20, 47, 55, 39, 41, 7,9, 17, 26, 27, 42, 22, 37, 51, 46, 18,44, 30, 34, 13, 15, 35, 33, 16, 50, 24]\n",
    "# kayıp verileri bulacağız"
   ]
  },
  {
   "cell_type": "code",
   "execution_count": 90,
   "metadata": {},
   "outputs": [
    {
     "name": "stdout",
     "output_type": "stream",
     "text": [
      "[8, 12, 14, 23, 25, 31, 32, 38, 40, 43, 49]\n"
     ]
    }
   ],
   "source": [
    "# 1. yöntem\n",
    "\n",
    "kayıp_sayılar = []\n",
    "for i in range(min(number_list), max(number_list)):\n",
    "\n",
    "    if i not in number_list:\n",
    "        kayıp_sayılar.append(i)\n",
    "    \n",
    "print(kayıp_sayılar)"
   ]
  },
  {
   "cell_type": "code",
   "execution_count": 91,
   "metadata": {},
   "outputs": [
    {
     "name": "stdout",
     "output_type": "stream",
     "text": [
      "[8, 12, 14, 23, 25, 31, 32, 38, 40, 43, 49]\n"
     ]
    }
   ],
   "source": [
    "# 2.yöntem\n",
    "\n",
    "kayıp_sayılar = []\n",
    "for i in range(min(number_list), max(number_list)):\n",
    "\n",
    "    if i in number_list:\n",
    "        continue\n",
    "    else:\n",
    "        kayıp_sayılar.append(i)\n",
    "    \n",
    "print(kayıp_sayılar)\n"
   ]
  },
  {
   "cell_type": "code",
   "execution_count": 92,
   "metadata": {},
   "outputs": [
    {
     "data": {
      "text/plain": [
       "{8, 12, 14, 23, 25, 31, 32, 38, 40, 43, 49}"
      ]
     },
     "execution_count": 92,
     "metadata": {},
     "output_type": "execute_result"
    }
   ],
   "source": [
    "# 3.yöntem (küme)\n",
    "\n",
    "\n",
    "full_set = set(range(min(number_list), max(number_list)))\n",
    "\n",
    "number_set = set(number_list)\n",
    "\n",
    "full_set - number_set\n",
    "\n"
   ]
  },
  {
   "cell_type": "code",
   "execution_count": 33,
   "metadata": {},
   "outputs": [
    {
     "name": "stdout",
     "output_type": "stream",
     "text": [
      "1: Elma\n",
      "2: Portakal\n",
      "3: Çilek\n",
      "4: Yumurta\n",
      "5: Havuç\n",
      "6: Armut\n",
      "\n",
      "Sepetinize Çilek eklediniz, well done!\n",
      "Sepetiniz: ['Çilek'] Lütfen yeni ürün eklemek istiyorsanız, seçim yapmaya devam ediniz.\n",
      "\n",
      "1: Elma\n",
      "2: Portakal\n",
      "3: Çilek\n",
      "4: Yumurta\n",
      "5: Havuç\n",
      "6: Armut\n",
      "Teşekkür ederiz. Sepetinizdeki ürünler şunlardır:['Çilek']\n"
     ]
    }
   ],
   "source": [
    "meyveler = {1 : \"Elma\", 2 : \"Portakal\", 3 : \"Çilek\", 4 : \"Yumurta\", 5 : \"Havuç\", 6 : \"Armut\"}\n",
    "sepet = []\n",
    "\n",
    "while True:\n",
    "\n",
    "\n",
    "\n",
    "    for i, j in meyveler.items():\n",
    "        print(f\"{i}: {j}\" )\n",
    "\n",
    "    choose = input(\"Lütfen eklemek istediğiniz meyvenin kodunu yazınız. Çıkış için 'q' harfine basabilirsiniz. \\n\")\n",
    "\n",
    "    if choose.lower() == \"q\":\n",
    "        break\n",
    "\n",
    "\n",
    "    if choose.isdigit() and int(choose) in meyveler:\n",
    "        secilen = meyveler[int(choose)]\n",
    "        sepet.append(secilen)\n",
    "        print(f\"\\nSepetinize {secilen} eklediniz, well done!\")\n",
    "        print(\"Sepetiniz:\",sepet, \"Lütfen yeni ürün eklemek istiyorsanız, seçim yapmaya devam ediniz.\\n\")\n",
    "    else:\n",
    "        print(f\"Lütfen girdiğiniz kodu kontrol ediniz. {choose}\")\n",
    "\n",
    "print(f\"Teşekkür ederiz. Sepetinizdeki ürünler şunlardır:{sepet}\")"
   ]
  },
  {
   "cell_type": "code",
   "execution_count": 1,
   "metadata": {},
   "outputs": [
    {
     "name": "stdout",
     "output_type": "stream",
     "text": [
      "Marketimize Hoş geldiniz\n",
      "Ürünlerimiz:\n",
      "1 : \"Elma\",\n",
      "2 : \"Portakal\",\n",
      "3 : \"Çilek\", \n",
      "4 : \"Yumurta\",\n",
      "5 : \"Havuç\",\n",
      "6 : \"Armut\"     \n",
      "      \n",
      "Sepete Yumurta eklendi\n",
      "Bizi tercih ettiğiniz için teşekkürler\n",
      "Almış olduğunuz ürünler: ['Yumurta']\n"
     ]
    }
   ],
   "source": [
    "ürünler = {1 : \"Elma\", 2 : \"Portakal\", 3 : \"Çilek\", 4 : \"Yumurta\", 5 : \"Havuç\", 6 : \"Armut\"}\n",
    "\n",
    "print(\"Marketimize Hoş geldiniz\")\n",
    "\n",
    "print(\"\"\"Ürünlerimiz:\n",
    "1 : \"Elma\",\n",
    "2 : \"Portakal\",\n",
    "3 : \"Çilek\", \n",
    "4 : \"Yumurta\",\n",
    "5 : \"Havuç\",\n",
    "6 : \"Armut\"     \n",
    "      \"\"\")\n",
    "\n",
    "sepet = []\n",
    "\n",
    "while True:\n",
    "\n",
    "    x = input(\"Almak istediğiniz ürünün kodunu giriniz. Ürün eklemeyi bitirdiğinizde q tuşuna basınız.\").lower()\n",
    "\n",
    "    if x != \"q\":\n",
    "        sepet.append(ürünler[int(x)])\n",
    "        print(f\"Sepete {ürünler[int(x)]} eklendi\")\n",
    "\n",
    "    elif x == \"q\":\n",
    "        print(\"Bizi tercih ettiğiniz için teşekkürler\")\n",
    "        print(f\"Almış olduğunuz ürünler: {sepet}\")\n",
    "        break"
   ]
  },
  {
   "cell_type": "code",
   "execution_count": null,
   "metadata": {},
   "outputs": [],
   "source": []
  },
  {
   "cell_type": "code",
   "execution_count": null,
   "metadata": {},
   "outputs": [],
   "source": []
  },
  {
   "cell_type": "code",
   "execution_count": null,
   "metadata": {},
   "outputs": [],
   "source": []
  },
  {
   "cell_type": "code",
   "execution_count": null,
   "metadata": {},
   "outputs": [],
   "source": []
  },
  {
   "cell_type": "code",
   "execution_count": null,
   "metadata": {},
   "outputs": [],
   "source": []
  },
  {
   "cell_type": "code",
   "execution_count": null,
   "metadata": {},
   "outputs": [],
   "source": []
  },
  {
   "cell_type": "code",
   "execution_count": null,
   "metadata": {},
   "outputs": [],
   "source": []
  },
  {
   "cell_type": "code",
   "execution_count": null,
   "metadata": {},
   "outputs": [],
   "source": []
  },
  {
   "cell_type": "code",
   "execution_count": null,
   "metadata": {},
   "outputs": [],
   "source": []
  },
  {
   "cell_type": "code",
   "execution_count": null,
   "metadata": {},
   "outputs": [],
   "source": []
  },
  {
   "cell_type": "code",
   "execution_count": null,
   "metadata": {},
   "outputs": [],
   "source": []
  }
 ],
 "metadata": {
  "kernelspec": {
   "display_name": "Python 3",
   "language": "python",
   "name": "python3"
  },
  "language_info": {
   "codemirror_mode": {
    "name": "ipython",
    "version": 3
   },
   "file_extension": ".py",
   "mimetype": "text/x-python",
   "name": "python",
   "nbconvert_exporter": "python",
   "pygments_lexer": "ipython3",
   "version": "3.12.1"
  }
 },
 "nbformat": 4,
 "nbformat_minor": 2
}
