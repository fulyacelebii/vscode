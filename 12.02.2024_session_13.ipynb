{
 "cells": [
  {
   "cell_type": "markdown",
   "metadata": {},
   "source": [
    "# LOOPS"
   ]
  },
  {
   "cell_type": "markdown",
   "metadata": {},
   "source": [
    "# While"
   ]
  },
  {
   "cell_type": "code",
   "execution_count": null,
   "metadata": {},
   "outputs": [],
   "source": [
    "while 10 > 4:  # çalışırsa sonsuz döngü olur. ÇALIŞTIRMA\n",
    "    print(\"bu döngü sonsuza kadar çalışır\")"
   ]
  },
  {
   "cell_type": "code",
   "execution_count": 1,
   "metadata": {},
   "outputs": [
    {
     "name": "stdout",
     "output_type": "stream",
     "text": [
      "bu döngü koşul sağladıkça çıktı verir.\n",
      "bu döngü koşul sağladıkça çıktı verir.\n",
      "bu döngü koşul sağladıkça çıktı verir.\n",
      "bu döngü koşul sağladıkça çıktı verir.\n",
      "bu döngü koşul sağladıkça çıktı verir.\n",
      "bu döngü koşul sağladıkça çıktı verir.\n"
     ]
    }
   ],
   "source": [
    "x = 4\n",
    "while 10 > x:\n",
    "    print(\"bu döngü koşul sağladıkça çıktı verir.\")\n",
    "    x = x + 1   #koşul ekledik. 4'übirerbirer artırarak yazdırdı."
   ]
  },
  {
   "cell_type": "code",
   "execution_count": 2,
   "metadata": {},
   "outputs": [
    {
     "name": "stdout",
     "output_type": "stream",
     "text": [
      "1\n",
      "2\n",
      "3\n",
      "4\n",
      "5\n",
      "6\n",
      "7\n",
      "8\n",
      "9\n"
     ]
    }
   ],
   "source": [
    "x = 1\n",
    "while x < 10:   # bir yerde bu koşulu False yapmak gerekir\n",
    "    print(x)\n",
    "    x += 1  # işlem döngü içinde olmazsa sonsuza gider."
   ]
  },
  {
   "cell_type": "code",
   "execution_count": 6,
   "metadata": {},
   "outputs": [
    {
     "name": "stdout",
     "output_type": "stream",
     "text": [
      "2\n",
      "3\n",
      "4\n",
      "5\n",
      "6\n",
      "7\n",
      "8\n",
      "9\n",
      "10\n"
     ]
    }
   ],
   "source": [
    "x = 1\n",
    "while x < 10:\n",
    "    \n",
    "    x = x + 1\n",
    "    print(x)   # x'i bir arttırdık print(x) 2 oldu. o yüzden 2 ile 10 arasındaki sayıları yazdıracak. "
   ]
  },
  {
   "cell_type": "code",
   "execution_count": 7,
   "metadata": {},
   "outputs": [],
   "source": [
    "while False:\n",
    "    print(\"sanki çıktı verecek gibi\")  # false girerek sen çalışma dedik."
   ]
  },
  {
   "cell_type": "code",
   "execution_count": 8,
   "metadata": {},
   "outputs": [],
   "source": [
    "while \"\":\n",
    "    priny(\"bu da çıktı vermez\")"
   ]
  },
  {
   "cell_type": "code",
   "execution_count": null,
   "metadata": {},
   "outputs": [],
   "source": [
    "while True:\n",
    "    print(\"Bu kod her türlü çıktı verir\")  #sonsuza gider.ÇALIŞTIRMA!"
   ]
  },
  {
   "cell_type": "code",
   "execution_count": null,
   "metadata": {},
   "outputs": [],
   "source": [
    "x = 1\n",
    "while True:  # sonsuza gider DİKKAT. ÇALIŞTIRMA\n",
    "    print(x, \"sonsoza gider mi acaba?\")\n",
    "    x += 1  # bu x = x + 1 demek"
   ]
  },
  {
   "cell_type": "code",
   "execution_count": 9,
   "metadata": {},
   "outputs": [
    {
     "name": "stdout",
     "output_type": "stream",
     "text": [
      "while döngüsü conditions False olana kadar çalışır\n"
     ]
    }
   ],
   "source": [
    "y = True\n",
    "while y:  # burası True oldu\n",
    "    print(\"while döngüsü conditions False olana kadar çalışır\")\n",
    "    y = False  # y'ye yenibir değer verdik. döngünün başına gittiğimizde y True olacağı için bir daha çalıştırmaz. bir kere çalıştırır."
   ]
  },
  {
   "cell_type": "code",
   "execution_count": 11,
   "metadata": {},
   "outputs": [
    {
     "name": "stdout",
     "output_type": "stream",
     "text": [
      "deneme 1\n",
      "deneme 2\n",
      "deneme 3\n",
      "3 deneme hakkın bitti\n"
     ]
    }
   ],
   "source": [
    "x = 1\n",
    "\n",
    "while x <= 3:\n",
    "    print(\"deneme\", x)  # print(\"f\"deneme: {x}\") böyle de yazılabilir. Fstring.\n",
    "    x += 1\n",
    "\n",
    "print(\"3 deneme hakkın bitti\")  #döngü bittikten sonra bu yazı görünür."
   ]
  },
  {
   "cell_type": "code",
   "execution_count": 13,
   "metadata": {},
   "outputs": [
    {
     "name": "stdout",
     "output_type": "stream",
     "text": [
      "deneme 1\n",
      "3 deneme hakkın bitti\n",
      "deneme 2\n",
      "3 deneme hakkın bitti\n",
      "deneme 3\n",
      "3 deneme hakkın bitti\n"
     ]
    }
   ],
   "source": [
    "x = 1\n",
    "\n",
    "while x <= 3:\n",
    "    print(\"deneme\", x)  # print(\"f\"deneme: {x}\") böyle de yazılabilir. Fstring.\n",
    "    x += 1\n",
    "    print(\"3 deneme hakkın bitti\")  #döngünın içine yazarsak her seferinde yazar"
   ]
  },
  {
   "cell_type": "code",
   "execution_count": 19,
   "metadata": {},
   "outputs": [
    {
     "name": "stdout",
     "output_type": "stream",
     "text": [
      "1 in karesi: 1\n",
      "2 in karesi: 4\n",
      "3 in karesi: 9\n",
      "4 in karesi: 16\n",
      "5 in karesi: 25\n"
     ]
    }
   ],
   "source": [
    "x = 1\n",
    "while x <= 5:\n",
    "    print(f\"{x} in karesi: {x ** 2}\")\n",
    "    x += 1"
   ]
  },
  {
   "cell_type": "code",
   "execution_count": 22,
   "metadata": {},
   "outputs": [
    {
     "name": "stdout",
     "output_type": "stream",
     "text": [
      "80 yanlış tahmin. tekrar dene\n",
      "70 yanlış tahmin. tekrar dene\n"
     ]
    }
   ],
   "source": [
    "x = int(input(\"kilomu tahmin et. 10'luk değerler kullanabilirsin\"))\n",
    "\n",
    "while x < 90:\n",
    "    print(f\"{x} yanlış tahmin. tekrar dene\")\n",
    "    x = int(input(\"kilomu tahmin et. 10'luk değerler kullanabilirsin\"))  #tekrar sorması için while'x = int(input(\"kilomu tahmin et. 10'luk değerler kullanabilirsin\"))x = int(input(\"kilomu tahmin et. 10'luk değerler kullanabilirsin\"))ın içine yazdık."
   ]
  },
  {
   "cell_type": "code",
   "execution_count": 3,
   "metadata": {},
   "outputs": [
    {
     "name": "stdout",
     "output_type": "stream",
     "text": [
      "Girdiğiniz sayı: 46. Tahminini artır\n",
      "Girdiğiniz sayı: 80. Tahminini azalt\n",
      "Girdiğiniz sayı: 78. Tahminini azalt\n",
      "Girdiğiniz sayı: 43. Tahminini artır\n",
      "Girdiğiniz sayı: 55. 5 kerede bildiniz. Tebrikler\n"
     ]
    }
   ],
   "source": [
    "y = True\n",
    "\n",
    "aklımdaki_sayi = 55\n",
    "\n",
    "sayaç = 0\n",
    "\n",
    "while y:  #kullanıcı doğru sayıyı girene kadar tahmin yaptırıcaz.\n",
    "    tahmin = int(input(\"1 ile 100 arasında bir sayı tahmin edin\"))\n",
    "    \n",
    "    sayaç += 1  #kaç denemede bulduğunu gösterir.\n",
    "\n",
    "    if aklımdaki_sayi < tahmin:\n",
    "        print(f\"Girdiğiniz sayı: {tahmin}. Tahminini azalt\")\n",
    "    elif aklımdaki_sayi > tahmin:\n",
    "        print(f\"Girdiğiniz sayı: {tahmin}. Tahminini artır\")\n",
    "    else:\n",
    "        print(f\"Girdiğiniz sayı: {tahmin}. {sayaç} kerede bildiniz. Tebrikler\")\n",
    "        y = False # else çalışırsa döngüyü bitir"
   ]
  },
  {
   "cell_type": "code",
   "execution_count": null,
   "metadata": {},
   "outputs": [],
   "source": [
    "y = True\n",
    "\n",
    "aklımdaki_sayı = 55\n",
    "\n",
    "sayaç = 0\n",
    "\n",
    "while y:\n",
    "\n",
    "    tahmin = int(input(\"1 ile 100 arasında bir sayı tahmin edin.\"))\n",
    "\n",
    "    sayaç += 1\n",
    "\n",
    "    if aklımdaki_sayı < tahmin:\n",
    "        print(f\"Girdiğiniz sayı : {tahmin}. Tahminini azalt\")\n",
    "\n",
    "    elif aklımdaki_sayı > tahmin:\n",
    "        print(f\"Girdiğiniz sayı : {tahmin}. Tahminini arttır\")\n",
    "\n",
    "    else:\n",
    "        print(f\"Girdiğiniz sayı : {tahmin}. {sayaç} kerede bildiniz. Tebrikler. \")\n",
    "\n",
    "        y = False\n",
    "\n",
    "    if sayaç == 5:  #sayaç 5 olduğunda tahmini bilemezse döngü bitsin diye bu kısıtı koyduk\n",
    "        y = False"
   ]
  },
  {
   "cell_type": "code",
   "execution_count": 4,
   "metadata": {},
   "outputs": [],
   "source": [
    "sayılar_listesi = [1, 3, 4, 6, 5, 7]  #sayılar listesinin her elemanına ulaş her elemanın karesini al"
   ]
  },
  {
   "cell_type": "code",
   "execution_count": 15,
   "metadata": {},
   "outputs": [
    {
     "name": "stdout",
     "output_type": "stream",
     "text": [
      "[1, 9, 16, 36, 25, 49]\n"
     ]
    }
   ],
   "source": [
    "x = 0  #indeksler 0'dan başlar.\n",
    "kareler_listesi = []\n",
    "\n",
    "while x < len(sayılar_listesi):    #bu yapıyı indekslenen şeyler için kullanacaksak bunu hatırla!\n",
    "    kareler_listesi.append(sayılar_listesi[x] ** 2)\n",
    "    x += 1\n",
    "print(kareler_listesi)   #printi döngünün içine almadık fark et.\n"
   ]
  },
  {
   "cell_type": "code",
   "execution_count": 32,
   "metadata": {},
   "outputs": [
    {
     "name": "stdout",
     "output_type": "stream",
     "text": [
      "[16, 36]\n"
     ]
    }
   ],
   "source": [
    "#listenin içindeki sadece çift sayıları hesaplamak için.\n",
    "x = 0  #indeksler 0'dan başlar.\n",
    "çiftlerin_kareler_listesi = []\n",
    "\n",
    "while x < len(sayılar_listesi):    #bu yapıyı indekslenen şeyler için kullanacaksak bunu hatırla!\n",
    "    if sayılar_listesi[x] % 2 == 0:\n",
    "        çiftlerin_kareler_listesi.append(sayılar_listesi[x] ** 2)\n",
    "    x += 1\n",
    "\n",
    "print(çiftlerin_kareler_listesi)"
   ]
  },
  {
   "cell_type": "code",
   "execution_count": 35,
   "metadata": {},
   "outputs": [],
   "source": [
    "sayılar_liste = [1,5,6,7,12,14,15,18,19,32,25] #listesinin tek elemanlarının karesini, çift elemanlarının 2 katını liste halinde döndüren while döngüsünü yazın"
   ]
  },
  {
   "cell_type": "code",
   "execution_count": 79,
   "metadata": {},
   "outputs": [
    {
     "name": "stdout",
     "output_type": "stream",
     "text": [
      "listdeki çift sayılar: [6, 12, 14, 18, 32]'dır ve sırasıyla 2 ile çarpımları: [12, 24, 28, 36, 64]\n",
      "listedeki tek sayılar: [1, 5, 7, 15, 19, 25]'dır ve sırasıyla kareleri: [1, 25, 49, 225, 361, 625]\n"
     ]
    }
   ],
   "source": [
    "sayılar_liste = [1,5,6,7,12,14,15,18,19,32,25]\n",
    "x = 0\n",
    "tek_liste = []\n",
    "çift_liste = []\n",
    "\n",
    "ham_çift_liste = []\n",
    "ham_tek_liste = []\n",
    "\n",
    "while x < len(sayılar_liste):\n",
    "    if sayılar_liste[x] % 2 == 0:\n",
    "        ham_çift_liste.append(sayılar_liste[x])\n",
    "        çift_liste.append(sayılar_liste[x] * 2)\n",
    "    else:\n",
    "        ham_tek_liste.append(sayılar_liste[x])\n",
    "        tek_liste.append(sayılar_liste[x] ** 2)\n",
    "    x += 1\n",
    "\n",
    "print(f\"listdeki çift sayılar: {ham_çift_liste}'dır ve sırasıyla 2 ile çarpımları: {çift_liste}\")\n",
    "print(f\"listedeki tek sayılar: {ham_tek_liste}'dır ve sırasıyla kareleri: {tek_liste}\")\n",
    "\n"
   ]
  },
  {
   "cell_type": "code",
   "execution_count": null,
   "metadata": {},
   "outputs": [],
   "source": []
  }
 ],
 "metadata": {
  "kernelspec": {
   "display_name": "Python 3",
   "language": "python",
   "name": "python3"
  },
  "language_info": {
   "codemirror_mode": {
    "name": "ipython",
    "version": 3
   },
   "file_extension": ".py",
   "mimetype": "text/x-python",
   "name": "python",
   "nbconvert_exporter": "python",
   "pygments_lexer": "ipython3",
   "version": "3.12.1"
  }
 },
 "nbformat": 4,
 "nbformat_minor": 2
}
